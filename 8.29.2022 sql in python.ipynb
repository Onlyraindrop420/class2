{
 "cells": [
  {
   "cell_type": "markdown",
   "id": "55a7109e",
   "metadata": {},
   "source": [
    "C : create\n",
    "R : read\n",
    "U : update\n",
    "I : insert\n",
    "D : delete"
   ]
  },
  {
   "cell_type": "markdown",
   "id": "2217740c",
   "metadata": {},
   "source": [
    "# Creates statement in SQL(relational database)/ create database\n",
    "\n",
    "```sql\n",
    "create table table_name(rollno,name)\n",
    "```\n"
   ]
  },
  {
   "cell_type": "code",
   "execution_count": null,
   "id": "e50b6c77",
   "metadata": {},
   "outputs": [],
   "source": []
  },
  {
   "cell_type": "code",
   "execution_count": 1,
   "id": "102f9463",
   "metadata": {},
   "outputs": [],
   "source": [
    "import sqlite3"
   ]
  },
  {
   "cell_type": "code",
   "execution_count": 4,
   "id": "768d3cf0",
   "metadata": {},
   "outputs": [],
   "source": [
    "con=sqlite3.connect(\"lab2.db\")"
   ]
  },
  {
   "cell_type": "code",
   "execution_count": 5,
   "id": "cbcab48c",
   "metadata": {},
   "outputs": [],
   "source": [
    "cur=con.cursor()"
   ]
  },
  {
   "cell_type": "code",
   "execution_count": 6,
   "id": "4f1aff0b",
   "metadata": {},
   "outputs": [],
   "source": [
    "create_query='''\n",
    "create table student(roll_no,name)\n",
    "'''"
   ]
  },
  {
   "cell_type": "code",
   "execution_count": 8,
   "id": "f081d4a2",
   "metadata": {},
   "outputs": [
    {
     "data": {
      "text/plain": [
       "<sqlite3.Cursor at 0x186a8f15f80>"
      ]
     },
     "execution_count": 8,
     "metadata": {},
     "output_type": "execute_result"
    }
   ],
   "source": [
    "cur.execute(create_query)"
   ]
  },
  {
   "cell_type": "code",
   "execution_count": 11,
   "id": "7d3a182a",
   "metadata": {},
   "outputs": [],
   "source": [
    "con.commit()"
   ]
  },
  {
   "cell_type": "markdown",
   "id": "f816e813",
   "metadata": {},
   "source": [
    "# insert statement in sql\n",
    "INSERT INTO table_name(column1,column2,column3,...)\n",
    "VALUES(value1,value2,value3,....),\n",
    "(value11,value12,value13,...);\n"
   ]
  },
  {
   "cell_type": "code",
   "execution_count": 16,
   "id": "83e359a7",
   "metadata": {},
   "outputs": [],
   "source": [
    "insert_query = \"\"\"\n",
    "insert into student(roll_no,name)\n",
    "values\n",
    "(1, \"nishan\"),\n",
    "(2, \"swapnil\")\n",
    "\"\"\""
   ]
  },
  {
   "cell_type": "code",
   "execution_count": 17,
   "id": "52bf0d39",
   "metadata": {},
   "outputs": [
    {
     "data": {
      "text/plain": [
       "<sqlite3.Cursor at 0x186a8f15f80>"
      ]
     },
     "execution_count": 17,
     "metadata": {},
     "output_type": "execute_result"
    }
   ],
   "source": [
    "cur.execute (insert_query)"
   ]
  },
  {
   "cell_type": "markdown",
   "id": "f45b5940",
   "metadata": {},
   "source": [
    "# select statement in SQL/ Read operation"
   ]
  },
  {
   "cell_type": "code",
   "execution_count": 18,
   "id": "6725c531",
   "metadata": {},
   "outputs": [
    {
     "data": {
      "text/plain": [
       "[(1, 'nishan'), (2, 'swapnil')]"
      ]
     },
     "execution_count": 18,
     "metadata": {},
     "output_type": "execute_result"
    }
   ],
   "source": [
    "cur.execute(\"select * from student\").fetchall()"
   ]
  },
  {
   "cell_type": "code",
   "execution_count": 19,
   "id": "10d308f8",
   "metadata": {},
   "outputs": [
    {
     "data": {
      "text/plain": [
       "[('nishan',), ('swapnil',)]"
      ]
     },
     "execution_count": 19,
     "metadata": {},
     "output_type": "execute_result"
    }
   ],
   "source": [
    "cur.execute(\"select name from student\").fetchall()"
   ]
  },
  {
   "cell_type": "code",
   "execution_count": 20,
   "id": "fce1232f",
   "metadata": {},
   "outputs": [
    {
     "data": {
      "text/plain": [
       "[(1,), (2,)]"
      ]
     },
     "execution_count": 20,
     "metadata": {},
     "output_type": "execute_result"
    }
   ],
   "source": [
    "cur.execute(\"select roll_no from student\").fetchall()"
   ]
  },
  {
   "cell_type": "code",
   "execution_count": 21,
   "id": "b411fcb4",
   "metadata": {},
   "outputs": [
    {
     "data": {
      "text/plain": [
       "[(2, 'swapnil')]"
      ]
     },
     "execution_count": 21,
     "metadata": {},
     "output_type": "execute_result"
    }
   ],
   "source": [
    "cur.execute(\"select * from student where roll_no=2\").fetchall()"
   ]
  },
  {
   "cell_type": "code",
   "execution_count": 25,
   "id": "ab667016",
   "metadata": {},
   "outputs": [
    {
     "data": {
      "text/plain": [
       "[(1, 'nishan')]"
      ]
     },
     "execution_count": 25,
     "metadata": {},
     "output_type": "execute_result"
    }
   ],
   "source": [
    "cur.execute(\"select * from student where name = 'nishan' \").fetchall()"
   ]
  },
  {
   "cell_type": "code",
   "execution_count": null,
   "id": "cf625900",
   "metadata": {},
   "outputs": [],
   "source": []
  },
  {
   "cell_type": "markdown",
   "id": "3977e5d6",
   "metadata": {},
   "source": [
    "# Update statement in sql"
   ]
  },
  {
   "cell_type": "code",
   "execution_count": 42,
   "id": "21d36e4c",
   "metadata": {},
   "outputs": [],
   "source": [
    "up=\"\"\"\n",
    "update student\n",
    "set name='nishan luitel'\n",
    "where roll_no=1\n",
    "\n",
    "\"\"\""
   ]
  },
  {
   "cell_type": "code",
   "execution_count": 43,
   "id": "5a842691",
   "metadata": {},
   "outputs": [
    {
     "data": {
      "text/plain": [
       "<sqlite3.Cursor at 0x186a8f15f80>"
      ]
     },
     "execution_count": 43,
     "metadata": {},
     "output_type": "execute_result"
    }
   ],
   "source": [
    "cur.execute(up)"
   ]
  },
  {
   "cell_type": "code",
   "execution_count": 48,
   "id": "5e4ccfab",
   "metadata": {},
   "outputs": [
    {
     "data": {
      "text/plain": [
       "[(1, 'nishan luitel'),\n",
       " (2, 'swapnil'),\n",
       " (3, 'poonam yadav'),\n",
       " (4, 'kusum basnet'),\n",
       " (5, 'pratik subedi')]"
      ]
     },
     "execution_count": 48,
     "metadata": {},
     "output_type": "execute_result"
    }
   ],
   "source": [
    "cur.execute (\"Select * from student\").fetchall()"
   ]
  },
  {
   "cell_type": "code",
   "execution_count": null,
   "id": "5286e7ee",
   "metadata": {},
   "outputs": [],
   "source": []
  },
  {
   "cell_type": "markdown",
   "id": "c671747d",
   "metadata": {},
   "source": [
    "# Executemany"
   ]
  },
  {
   "cell_type": "code",
   "execution_count": 45,
   "id": "cf272796",
   "metadata": {},
   "outputs": [],
   "source": [
    "data=[\n",
    "    (3,\"poonam yadav\"),\n",
    "    (4,\"kusum basnet\"),\n",
    "    (5,\"pratik subedi\")\n",
    "]"
   ]
  },
  {
   "cell_type": "code",
   "execution_count": 46,
   "id": "7b6137bc",
   "metadata": {},
   "outputs": [
    {
     "data": {
      "text/plain": [
       "<sqlite3.Cursor at 0x186a8f15f80>"
      ]
     },
     "execution_count": 46,
     "metadata": {},
     "output_type": "execute_result"
    }
   ],
   "source": [
    "cur.executemany(\"Insert into student(roll_no, name) values(?,?)\",data)"
   ]
  },
  {
   "cell_type": "code",
   "execution_count": 47,
   "id": "99eb6eac",
   "metadata": {},
   "outputs": [
    {
     "data": {
      "text/plain": [
       "[(1, 'nishan luitel'),\n",
       " (2, 'swapnil'),\n",
       " (3, 'poonam yadav'),\n",
       " (4, 'kusum basnet'),\n",
       " (5, 'pratik subedi')]"
      ]
     },
     "execution_count": 47,
     "metadata": {},
     "output_type": "execute_result"
    }
   ],
   "source": [
    "cur.execute(\"Select * from student\").fetchall()"
   ]
  },
  {
   "cell_type": "code",
   "execution_count": null,
   "id": "395f92a7",
   "metadata": {},
   "outputs": [],
   "source": []
  },
  {
   "cell_type": "markdown",
   "id": "750f5141",
   "metadata": {},
   "source": [
    "# Delete statement in sql"
   ]
  },
  {
   "cell_type": "code",
   "execution_count": 49,
   "id": "ec2808ef",
   "metadata": {},
   "outputs": [
    {
     "data": {
      "text/plain": [
       "<sqlite3.Cursor at 0x186a8f15f80>"
      ]
     },
     "execution_count": 49,
     "metadata": {},
     "output_type": "execute_result"
    }
   ],
   "source": [
    "cur.execute(\" delete from student where roll_no =5\")"
   ]
  },
  {
   "cell_type": "code",
   "execution_count": 51,
   "id": "3efdc69c",
   "metadata": {},
   "outputs": [
    {
     "data": {
      "text/plain": [
       "[(1, 'nishan luitel'),\n",
       " (2, 'swapnil'),\n",
       " (3, 'poonam yadav'),\n",
       " (4, 'kusum basnet')]"
      ]
     },
     "execution_count": 51,
     "metadata": {},
     "output_type": "execute_result"
    }
   ],
   "source": [
    "cur.execute(\"Select * from student\").fetchall()"
   ]
  },
  {
   "cell_type": "code",
   "execution_count": null,
   "id": "fce794ad",
   "metadata": {},
   "outputs": [],
   "source": []
  },
  {
   "cell_type": "code",
   "execution_count": null,
   "id": "716c07cc",
   "metadata": {},
   "outputs": [],
   "source": []
  },
  {
   "cell_type": "code",
   "execution_count": null,
   "id": "9be51fa5",
   "metadata": {},
   "outputs": [],
   "source": []
  },
  {
   "cell_type": "code",
   "execution_count": null,
   "id": "636c417a",
   "metadata": {},
   "outputs": [],
   "source": []
  },
  {
   "cell_type": "code",
   "execution_count": null,
   "id": "1a240f33",
   "metadata": {},
   "outputs": [],
   "source": []
  },
  {
   "cell_type": "code",
   "execution_count": null,
   "id": "4c1d15dc",
   "metadata": {},
   "outputs": [],
   "source": []
  },
  {
   "cell_type": "code",
   "execution_count": null,
   "id": "fe465fbd",
   "metadata": {},
   "outputs": [],
   "source": []
  }
 ],
 "metadata": {
  "kernelspec": {
   "display_name": "Python 3 (ipykernel)",
   "language": "python",
   "name": "python3"
  },
  "language_info": {
   "codemirror_mode": {
    "name": "ipython",
    "version": 3
   },
   "file_extension": ".py",
   "mimetype": "text/x-python",
   "name": "python",
   "nbconvert_exporter": "python",
   "pygments_lexer": "ipython3",
   "version": "3.8.10"
  }
 },
 "nbformat": 4,
 "nbformat_minor": 5
}
