{
 "cells": [
  {
   "cell_type": "markdown",
   "id": "04b5ae8b",
   "metadata": {},
   "source": [
    "# Prime number\n",
    "\n",
    "    "
   ]
  },
  {
   "cell_type": "code",
   "execution_count": null,
   "id": "aa93fd98",
   "metadata": {},
   "outputs": [],
   "source": [
    "def fun(x):\n",
    "    if x==1:\n",
    "        return False\n",
    "    elif x==2:\n",
    "        return True\n",
    "    else:\n",
    "        for a in range(2,x):\n",
    "            if x % a==0:\n",
    "                return False\n",
    "        return True\n",
    "a=int(input(\"enter a number:\"))\n",
    "print(\"the given number is prime\",fun(a))"
   ]
  },
  {
   "cell_type": "code",
   "execution_count": null,
   "id": "51bf8c11",
   "metadata": {},
   "outputs": [],
   "source": []
  },
  {
   "cell_type": "code",
   "execution_count": null,
   "id": "4711f5ba",
   "metadata": {},
   "outputs": [],
   "source": []
  },
  {
   "cell_type": "code",
   "execution_count": null,
   "id": "dc451060",
   "metadata": {},
   "outputs": [],
   "source": []
  },
  {
   "cell_type": "markdown",
   "id": "f5ff7845",
   "metadata": {},
   "source": [
    "# list updated\n"
   ]
  },
  {
   "cell_type": "code",
   "execution_count": null,
   "id": "61450d72",
   "metadata": {},
   "outputs": [],
   "source": [
    "\n",
    "def list_mod(a):\n",
    "    x = set(a)\n",
    "    y = list(x)\n",
    "    return y\n",
    "a = [\"bed\",\"fan\",\"chair\",\"sofa\",\"table\",\"bed\",\"sofa\"]\n",
    "print(\"the unique list updated is \",list_mod(a))"
   ]
  },
  {
   "cell_type": "code",
   "execution_count": null,
   "id": "eb4a13ee",
   "metadata": {},
   "outputs": [],
   "source": []
  },
  {
   "cell_type": "code",
   "execution_count": null,
   "id": "a2bf1bbb",
   "metadata": {},
   "outputs": [],
   "source": []
  },
  {
   "cell_type": "markdown",
   "id": "d22e1f72",
   "metadata": {},
   "source": [
    "# number of uppercase and lowercase letter"
   ]
  },
  {
   "cell_type": "code",
   "execution_count": null,
   "id": "003ffd09",
   "metadata": {},
   "outputs": [],
   "source": [
    "\n",
    "def case(q):\n",
    "    \n",
    "    e = len(q) \n",
    "    f=0\n",
    "    g=0\n",
    "    for r in range(0,e,1):\n",
    "        \n",
    "        t=w[r]\n",
    "        if t == w[r].upper():\n",
    "            f = f + 1 \n",
    "                        \n",
    "        elif t != w[r].upper():\n",
    "            g = g + 1 \n",
    "            \n",
    "q = input(\"Enter a word with both uppercase and lowercase:\")\n",
    "print(\"number of Upper is {} and Lower is {}\".format(f,g))    \n",
    "# return kasari garne?????"
   ]
  },
  {
   "cell_type": "code",
   "execution_count": null,
   "id": "d3e53133",
   "metadata": {},
   "outputs": [],
   "source": []
  },
  {
   "cell_type": "code",
   "execution_count": null,
   "id": "cc3e5b98",
   "metadata": {},
   "outputs": [],
   "source": []
  },
  {
   "cell_type": "code",
   "execution_count": null,
   "id": "ae44176f",
   "metadata": {},
   "outputs": [],
   "source": []
  },
  {
   "cell_type": "markdown",
   "id": "772907cf",
   "metadata": {},
   "source": [
    "# Hyphen seperated input\n"
   ]
  },
  {
   "cell_type": "code",
   "execution_count": 5,
   "id": "9c441db2",
   "metadata": {},
   "outputs": [
    {
     "name": "stdout",
     "output_type": "stream",
     "text": [
      "enter hyphen seperated string as you wish:1-2-3\n"
     ]
    }
   ],
   "source": [
    "def change(a):\n",
    "    b=a.split(\"-\")\n",
    "    b.sort()\n",
    "    return b\n",
    "    \n",
    "a = input(\"enter hyphen seperated string as you wish:\")\n"
   ]
  },
  {
   "cell_type": "code",
   "execution_count": null,
   "id": "45783ef8",
   "metadata": {},
   "outputs": [],
   "source": []
  },
  {
   "cell_type": "code",
   "execution_count": null,
   "id": "12703fd9",
   "metadata": {},
   "outputs": [],
   "source": [
    "for c in b(0,len(b),1):\n",
    "        d=b[c]\n",
    "        print(d,\"-\")"
   ]
  },
  {
   "cell_type": "code",
   "execution_count": null,
   "id": "a5dd3eb8",
   "metadata": {},
   "outputs": [],
   "source": []
  },
  {
   "cell_type": "code",
   "execution_count": null,
   "id": "41089873",
   "metadata": {},
   "outputs": [],
   "source": []
  },
  {
   "cell_type": "markdown",
   "id": "1a1e97dd",
   "metadata": {},
   "source": [
    "# assignmnet calculator"
   ]
  },
  {
   "cell_type": "code",
   "execution_count": 20,
   "id": "edafce60",
   "metadata": {},
   "outputs": [
    {
     "name": "stdout",
     "output_type": "stream",
     "text": [
      "['odd', 'even', 'odd', 'even']\n",
      "total addition is:  10\n",
      "squares is: [1, 4, 9, 16]\n",
      "mean is: 2.5\n",
      "4\n"
     ]
    }
   ],
   "source": [
    "def total(*args):\n",
    "    x=args\n",
    "    c=len(args)\n",
    "    sum=0\n",
    "    mean=0\n",
    "    square=0\n",
    "    squarelist=[]\n",
    "    oddevenlist=[]\n",
    "    for v in range(0,c,1):\n",
    "        b=x[v]\n",
    "        sum=sum+b\n",
    "        square=x[v]**2\n",
    "        squarelist.append(square)\n",
    "        mean=sum/c\n",
    "        if b%2==0:\n",
    "            printnum=\"even\"\n",
    "            oddevenlist.append(printnum)\n",
    "        else:\n",
    "            printnum=\"odd\"\n",
    "            oddevenlist.append(printnum)\n",
    "    \n",
    "    print(oddevenlist)\n",
    "    print(\"total addition is: \",sum)\n",
    "    print(\"squares is:\",squarelist)\n",
    "    print(\"mean is:\",mean)\n",
    "    \n",
    "    \n",
    "    print(c)\n",
    "total(1,2,3,4)\n"
   ]
  },
  {
   "cell_type": "code",
   "execution_count": null,
   "id": "82ac71c2",
   "metadata": {},
   "outputs": [],
   "source": []
  },
  {
   "cell_type": "markdown",
   "id": "fe411773",
   "metadata": {},
   "source": [
    "# fibonacci string"
   ]
  },
  {
   "cell_type": "code",
   "execution_count": 26,
   "id": "b2d3e06d",
   "metadata": {},
   "outputs": [
    {
     "name": "stdout",
     "output_type": "stream",
     "text": [
      "enter a number:5\n"
     ]
    },
    {
     "data": {
      "text/plain": [
       "7"
      ]
     },
     "execution_count": 26,
     "metadata": {},
     "output_type": "execute_result"
    }
   ],
   "source": [
    "\n",
    "def fib(a):\n",
    "    for i in range(a):\n",
    "        if a==1:\n",
    "            return 1\n",
    "        else:\n",
    "            return (a-1)+(a-2)\n",
    "    \n",
    "       \n",
    "a=int(input(\"enter a number:\"))\n",
    "fib(5)\n"
   ]
  },
  {
   "cell_type": "code",
   "execution_count": null,
   "id": "3055a821",
   "metadata": {},
   "outputs": [],
   "source": []
  },
  {
   "cell_type": "code",
   "execution_count": null,
   "id": "53b7d749",
   "metadata": {},
   "outputs": [],
   "source": []
  },
  {
   "cell_type": "code",
   "execution_count": null,
   "id": "514b5d42",
   "metadata": {},
   "outputs": [],
   "source": []
  },
  {
   "cell_type": "code",
   "execution_count": null,
   "id": "62b8c14a",
   "metadata": {},
   "outputs": [],
   "source": []
  }
 ],
 "metadata": {
  "kernelspec": {
   "display_name": "Python 3 (ipykernel)",
   "language": "python",
   "name": "python3"
  },
  "language_info": {
   "codemirror_mode": {
    "name": "ipython",
    "version": 3
   },
   "file_extension": ".py",
   "mimetype": "text/x-python",
   "name": "python",
   "nbconvert_exporter": "python",
   "pygments_lexer": "ipython3",
   "version": "3.8.10"
  }
 },
 "nbformat": 4,
 "nbformat_minor": 5
}
