{
 "cells": [
  {
   "cell_type": "code",
   "execution_count": 1,
   "id": "aec715ac",
   "metadata": {},
   "outputs": [
    {
     "data": {
      "text/plain": [
       "'H'"
      ]
     },
     "execution_count": 1,
     "metadata": {},
     "output_type": "execute_result"
    }
   ],
   "source": [
    "s = \" Hello world\"\n",
    "s[1]"
   ]
  },
  {
   "cell_type": "code",
   "execution_count": 2,
   "id": "5c4ceb9f",
   "metadata": {},
   "outputs": [
    {
     "data": {
      "text/plain": [
       "' '"
      ]
     },
     "execution_count": 2,
     "metadata": {},
     "output_type": "execute_result"
    }
   ],
   "source": [
    "s[0]\n"
   ]
  },
  {
   "cell_type": "code",
   "execution_count": 3,
   "id": "1dd68062",
   "metadata": {},
   "outputs": [
    {
     "data": {
      "text/plain": [
       "'d'"
      ]
     },
     "execution_count": 3,
     "metadata": {},
     "output_type": "execute_result"
    }
   ],
   "source": [
    "s[11]"
   ]
  },
  {
   "cell_type": "code",
   "execution_count": null,
   "id": "3c98d71f",
   "metadata": {},
   "outputs": [],
   "source": []
  },
  {
   "cell_type": "code",
   "execution_count": 4,
   "id": "b2328e8e",
   "metadata": {},
   "outputs": [
    {
     "data": {
      "text/plain": [
       "11"
      ]
     },
     "execution_count": 4,
     "metadata": {},
     "output_type": "execute_result"
    }
   ],
   "source": [
    "s ='Hello World'\n",
    "len(s)"
   ]
  },
  {
   "cell_type": "code",
   "execution_count": null,
   "id": "19461bb8",
   "metadata": {},
   "outputs": [],
   "source": []
  },
  {
   "cell_type": "code",
   "execution_count": null,
   "id": "319af55a",
   "metadata": {},
   "outputs": [],
   "source": []
  },
  {
   "cell_type": "code",
   "execution_count": null,
   "id": "975392ef",
   "metadata": {},
   "outputs": [],
   "source": [
    "range(start, stop, step)"
   ]
  },
  {
   "cell_type": "code",
   "execution_count": null,
   "id": "b5146c44",
   "metadata": {},
   "outputs": [],
   "source": [
    "#for function loop lai ho"
   ]
  },
  {
   "cell_type": "code",
   "execution_count": 11,
   "id": "d0bc3496",
   "metadata": {},
   "outputs": [],
   "source": [
    "s=\"Nishan luitel\""
   ]
  },
  {
   "cell_type": "code",
   "execution_count": 12,
   "id": "c13c5ad0",
   "metadata": {},
   "outputs": [
    {
     "name": "stdout",
     "output_type": "stream",
     "text": [
      "The index is 0 and letter is N\n",
      "The index is 1 and letter is i\n",
      "The index is 2 and letter is s\n",
      "The index is 3 and letter is h\n",
      "The index is 4 and letter is a\n",
      "The index is 5 and letter is n\n",
      "The index is 6 and letter is  \n",
      "The index is 7 and letter is l\n",
      "The index is 8 and letter is u\n",
      "The index is 9 and letter is i\n",
      "The index is 10 and letter is t\n",
      "The index is 11 and letter is e\n",
      "The index is 12 and letter is l\n"
     ]
    }
   ],
   "source": [
    "start = 0\n",
    "end = len(s)\n",
    "step = 1\n",
    "for index in range(start,end, step):\n",
    "    letter=s[index]\n",
    "    print(\"The index is {} and letter is {}\".format(index, letter))\n"
   ]
  },
  {
   "cell_type": "code",
   "execution_count": 40,
   "id": "5169c9c8",
   "metadata": {},
   "outputs": [
    {
     "name": "stdout",
     "output_type": "stream",
     "text": [
      "6\n"
     ]
    }
   ],
   "source": [
    "a=\"nishan\"\n",
    "b=len(a)\n",
    "print(b)"
   ]
  },
  {
   "cell_type": "code",
   "execution_count": 41,
   "id": "74dee68f",
   "metadata": {},
   "outputs": [
    {
     "name": "stdout",
     "output_type": "stream",
     "text": [
      "The index is 10 and letter is d\n",
      "The index is 9 and letter is l\n",
      "The index is 8 and letter is r\n",
      "The index is 7 and letter is o\n",
      "The index is 6 and letter is w\n",
      "The index is 5 and letter is  \n",
      "The index is 4 and letter is o\n",
      "The index is 3 and letter is l\n",
      "The index is 2 and letter is l\n",
      "The index is 1 and letter is e\n",
      "The index is 0 and letter is H\n"
     ]
    }
   ],
   "source": [
    "# practise in home\n",
    "s=\"Hello world\"\n",
    "start = len(s)-1\n",
    "end = -1\n",
    "step= -1\n",
    "for index in range(start,end,step):\n",
    "    letter= s[index]\n",
    "    print(\"The index is {} and letter is {}\".format(index, letter))"
   ]
  },
  {
   "cell_type": "code",
   "execution_count": null,
   "id": "e66b7265",
   "metadata": {},
   "outputs": [],
   "source": []
  },
  {
   "cell_type": "code",
   "execution_count": 66,
   "id": "114cd6ba",
   "metadata": {},
   "outputs": [
    {
     "name": "stdout",
     "output_type": "stream",
     "text": [
      "10\n",
      "l\n"
     ]
    },
    {
     "data": {
      "text/plain": [
       "'He'"
      ]
     },
     "execution_count": 66,
     "metadata": {},
     "output_type": "execute_result"
    }
   ],
   "source": [
    "a=\"Hello world\"\n",
    "print(len(s)-1)\n",
    "b= a[2]\n",
    "print(b)\n",
    "a[0:2]           #slicing\n"
   ]
  },
  {
   "cell_type": "code",
   "execution_count": 68,
   "id": "8652971d",
   "metadata": {},
   "outputs": [
    {
     "data": {
      "text/plain": [
       "'hi Nishan'"
      ]
     },
     "execution_count": 68,
     "metadata": {},
     "output_type": "execute_result"
    }
   ],
   "source": [
    "\"hi\"+\" Nishan\""
   ]
  },
  {
   "cell_type": "code",
   "execution_count": 69,
   "id": "97b530c4",
   "metadata": {},
   "outputs": [
    {
     "data": {
      "text/plain": [
       "'hihihi'"
      ]
     },
     "execution_count": 69,
     "metadata": {},
     "output_type": "execute_result"
    }
   ],
   "source": [
    "\"hi\"*3"
   ]
  },
  {
   "cell_type": "code",
   "execution_count": null,
   "id": "7318428a",
   "metadata": {},
   "outputs": [],
   "source": []
  },
  {
   "cell_type": "code",
   "execution_count": 5,
   "id": "2a38c6ee",
   "metadata": {},
   "outputs": [
    {
     "name": "stdout",
     "output_type": "stream",
     "text": [
      "enter a string:nishan luitel\n",
      "The number of vowels are 5 \n",
      "The number of consonants are 7\n"
     ]
    }
   ],
   "source": [
    "s=input(\"enter a string:\")\n",
    "a=0\n",
    "b=0\n",
    "start=0\n",
    "end=len(s)\n",
    "step=1\n",
    "for index in range(start,end,step):\n",
    "    letter = s[index]\n",
    "    if letter == \"a\" or letter == \"e\" or letter== \"i\" or letter== \"u\" or letter==\"o\":\n",
    "        a = a + 1\n",
    "        \n",
    "        \n",
    "    elif letter == \" \":\n",
    "        continue                        #skips everything downwards!!!!!!\n",
    "        print(\"Spaces are not vowels or consonant\")\n",
    "    \n",
    "    else:\n",
    "        b=b+1\n",
    "print(\"The number of vowels are {} \".format(a))\n",
    "print(\"The number of consonants are {}\".format(b))"
   ]
  },
  {
   "cell_type": "code",
   "execution_count": null,
   "id": "5a433527",
   "metadata": {},
   "outputs": [],
   "source": []
  },
  {
   "cell_type": "code",
   "execution_count": null,
   "id": "de6b1fd5",
   "metadata": {},
   "outputs": [],
   "source": []
  },
  {
   "cell_type": "markdown",
   "id": "e06e8a61",
   "metadata": {},
   "source": []
  },
  {
   "cell_type": "code",
   "execution_count": null,
   "id": "a95b4f09",
   "metadata": {},
   "outputs": [],
   "source": []
  },
  {
   "cell_type": "code",
   "execution_count": null,
   "id": "7b59d9f6",
   "metadata": {},
   "outputs": [],
   "source": []
  }
 ],
 "metadata": {
  "kernelspec": {
   "display_name": "Python 3 (ipykernel)",
   "language": "python",
   "name": "python3"
  },
  "language_info": {
   "codemirror_mode": {
    "name": "ipython",
    "version": 3
   },
   "file_extension": ".py",
   "mimetype": "text/x-python",
   "name": "python",
   "nbconvert_exporter": "python",
   "pygments_lexer": "ipython3",
   "version": "3.8.10"
  }
 },
 "nbformat": 4,
 "nbformat_minor": 5
}
