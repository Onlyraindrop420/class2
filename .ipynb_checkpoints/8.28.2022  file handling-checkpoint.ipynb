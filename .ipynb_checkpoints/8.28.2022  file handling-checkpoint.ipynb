{
 "cells": [
  {
   "cell_type": "markdown",
   "id": "dba10254",
   "metadata": {},
   "source": [
    "syntax:\n",
    "    open(filename,mode)\n",
    "different modes:\n",
    "read:r\n",
    "write:w\n",
    "append:a\n",
    "create:x"
   ]
  },
  {
   "cell_type": "code",
   "execution_count": null,
   "id": "a534e7b4",
   "metadata": {},
   "outputs": [],
   "source": []
  },
  {
   "cell_type": "code",
   "execution_count": null,
   "id": "77d32cc3",
   "metadata": {},
   "outputs": [],
   "source": []
  },
  {
   "cell_type": "code",
   "execution_count": null,
   "id": "815a1574",
   "metadata": {},
   "outputs": [],
   "source": [
    "# append\n"
   ]
  },
  {
   "cell_type": "code",
   "execution_count": 1,
   "id": "fe618191",
   "metadata": {},
   "outputs": [],
   "source": [
    "with open(\"write.txt\",\"a\") as f:\n",
    "    f.write(\"this is thrid line\")"
   ]
  },
  {
   "cell_type": "code",
   "execution_count": 2,
   "id": "f48ea1ab",
   "metadata": {},
   "outputs": [
    {
     "name": "stdout",
     "output_type": "stream",
     "text": [
      "this is thrid line\n"
     ]
    }
   ],
   "source": [
    "with open(\"write.txt\",\"r\") as f:\n",
    "    print(f.read())"
   ]
  },
  {
   "cell_type": "code",
   "execution_count": 3,
   "id": "fbc37a17",
   "metadata": {},
   "outputs": [],
   "source": [
    "with open(\"newwrite.txt\",\"a\") as f: #append creates new file if it doesnt exist\n",
    "    f.write(\"this is new line\")"
   ]
  },
  {
   "cell_type": "code",
   "execution_count": null,
   "id": "bcc38ee5",
   "metadata": {},
   "outputs": [],
   "source": []
  },
  {
   "cell_type": "markdown",
   "id": "361cc4f0",
   "metadata": {},
   "source": [
    "Deleting a file in python"
   ]
  },
  {
   "cell_type": "code",
   "execution_count": 4,
   "id": "d47cdf5a",
   "metadata": {},
   "outputs": [],
   "source": [
    "import os"
   ]
  },
  {
   "cell_type": "code",
   "execution_count": 6,
   "id": "20acbb66",
   "metadata": {},
   "outputs": [
    {
     "data": {
      "text/plain": [
       "True"
      ]
     },
     "execution_count": 6,
     "metadata": {},
     "output_type": "execute_result"
    }
   ],
   "source": [
    "os.path.exists(\"newwrite.txt\")"
   ]
  },
  {
   "cell_type": "code",
   "execution_count": 9,
   "id": "779c539a",
   "metadata": {},
   "outputs": [
    {
     "name": "stdout",
     "output_type": "stream",
     "text": [
      "file removed...\n"
     ]
    }
   ],
   "source": [
    "if os.path.exists(\"newwrite.txt\"):\n",
    "    os.remove(\"newwrite.txt\")\n",
    "    print(\"file removed...\")\n",
    "else:\n",
    "    print(\"file dont exist\")"
   ]
  },
  {
   "cell_type": "code",
   "execution_count": null,
   "id": "5a51107f",
   "metadata": {},
   "outputs": [],
   "source": []
  },
  {
   "cell_type": "code",
   "execution_count": null,
   "id": "b0aa41e2",
   "metadata": {},
   "outputs": [],
   "source": []
  },
  {
   "cell_type": "code",
   "execution_count": null,
   "id": "3869b0cf",
   "metadata": {},
   "outputs": [],
   "source": []
  },
  {
   "cell_type": "code",
   "execution_count": null,
   "id": "59ec90a4",
   "metadata": {},
   "outputs": [],
   "source": []
  },
  {
   "cell_type": "code",
   "execution_count": null,
   "id": "a82dfa21",
   "metadata": {},
   "outputs": [],
   "source": []
  }
 ],
 "metadata": {
  "kernelspec": {
   "display_name": "Python 3 (ipykernel)",
   "language": "python",
   "name": "python3"
  },
  "language_info": {
   "codemirror_mode": {
    "name": "ipython",
    "version": 3
   },
   "file_extension": ".py",
   "mimetype": "text/x-python",
   "name": "python",
   "nbconvert_exporter": "python",
   "pygments_lexer": "ipython3",
   "version": "3.8.10"
  }
 },
 "nbformat": 4,
 "nbformat_minor": 5
}
