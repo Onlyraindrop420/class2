{
 "cells": [
  {
   "cell_type": "markdown",
   "id": "7223a3e5",
   "metadata": {},
   "source": [
    "# membership operator"
   ]
  },
  {
   "cell_type": "code",
   "execution_count": 3,
   "id": "0a70db01",
   "metadata": {},
   "outputs": [
    {
     "data": {
      "text/plain": [
       "True"
      ]
     },
     "execution_count": 3,
     "metadata": {},
     "output_type": "execute_result"
    }
   ],
   "source": [
    "class2= ['pratik', 'abishek', 'punam','kusum', 'Abishek', 'nissan', 'swapnil']\n",
    "\"nissan\" in class2"
   ]
  },
  {
   "cell_type": "code",
   "execution_count": 4,
   "id": "b38b2398",
   "metadata": {},
   "outputs": [
    {
     "data": {
      "text/plain": [
       "False"
      ]
     },
     "execution_count": 4,
     "metadata": {},
     "output_type": "execute_result"
    }
   ],
   "source": [
    "\"nishan\" in class2"
   ]
  },
  {
   "cell_type": "code",
   "execution_count": 5,
   "id": "2d5ec421",
   "metadata": {},
   "outputs": [
    {
     "data": {
      "text/plain": [
       "True"
      ]
     },
     "execution_count": 5,
     "metadata": {},
     "output_type": "execute_result"
    }
   ],
   "source": [
    "\"nishan\" not in class2"
   ]
  },
  {
   "cell_type": "code",
   "execution_count": 6,
   "id": "b8028ae4",
   "metadata": {},
   "outputs": [
    {
     "ename": "TypeError",
     "evalue": "'str' object does not support item assignment",
     "output_type": "error",
     "traceback": [
      "\u001b[1;31m---------------------------------------------------------------------------\u001b[0m",
      "\u001b[1;31mTypeError\u001b[0m                                 Traceback (most recent call last)",
      "Input \u001b[1;32mIn [6]\u001b[0m, in \u001b[0;36m<cell line: 2>\u001b[1;34m()\u001b[0m\n\u001b[0;32m      1\u001b[0m name \u001b[38;5;241m=\u001b[39m \u001b[38;5;124m\"\u001b[39m\u001b[38;5;124mni$han\u001b[39m\u001b[38;5;124m\"\u001b[39m\n\u001b[1;32m----> 2\u001b[0m \u001b[43mname\u001b[49m\u001b[43m[\u001b[49m\u001b[38;5;241;43m1\u001b[39;49m\u001b[43m]\u001b[49m\u001b[38;5;241m=\u001b[39m\u001b[38;5;124m\"\u001b[39m\u001b[38;5;124ms\u001b[39m\u001b[38;5;124m\"\u001b[39m\n",
      "\u001b[1;31mTypeError\u001b[0m: 'str' object does not support item assignment"
     ]
    }
   ],
   "source": [
    "name = \"ni$han\"\n",
    "name[1]=\"s\"                             #python strings are immutable"
   ]
  },
  {
   "cell_type": "code",
   "execution_count": null,
   "id": "4caeea33",
   "metadata": {},
   "outputs": [],
   "source": [
    "class2[5]\n"
   ]
  },
  {
   "cell_type": "code",
   "execution_count": 7,
   "id": "19206264",
   "metadata": {},
   "outputs": [],
   "source": [
    "class2[5]=\"swaapnil\""
   ]
  },
  {
   "cell_type": "code",
   "execution_count": null,
   "id": "7ee2865e",
   "metadata": {},
   "outputs": [],
   "source": [
    "class2[5]     #python list are mutable"
   ]
  },
  {
   "cell_type": "code",
   "execution_count": null,
   "id": "f05a7e61",
   "metadata": {},
   "outputs": [],
   "source": []
  },
  {
   "cell_type": "code",
   "execution_count": null,
   "id": "76be15cc",
   "metadata": {},
   "outputs": [],
   "source": [
    "class2= ['pratik', 'abishek', 'punam','kusum', 'Abishek', 'nissan', 'swapnil']"
   ]
  },
  {
   "cell_type": "code",
   "execution_count": null,
   "id": "086e02a0",
   "metadata": {},
   "outputs": [],
   "source": [
    "class2[:2]=[\"Pratik\", \"Abishekkk\"]\n",
    "class2"
   ]
  },
  {
   "cell_type": "code",
   "execution_count": null,
   "id": "7fe91885",
   "metadata": {},
   "outputs": [],
   "source": []
  },
  {
   "cell_type": "code",
   "execution_count": null,
   "id": "7da403f4",
   "metadata": {},
   "outputs": [],
   "source": []
  },
  {
   "cell_type": "markdown",
   "id": "6ab6c4ae",
   "metadata": {},
   "source": [
    "# python list method\n",
    "adding values in list"
   ]
  },
  {
   "cell_type": "markdown",
   "id": "5d4d8b98",
   "metadata": {},
   "source": [
    "*insert"
   ]
  },
  {
   "cell_type": "code",
   "execution_count": 5,
   "id": "b456690d",
   "metadata": {},
   "outputs": [
    {
     "name": "stdout",
     "output_type": "stream",
     "text": [
      "[44, 22, 11, 566]\n",
      "[44, 'class2', 22, 11, 566]\n"
     ]
    }
   ],
   "source": [
    "number = [44,22,11,566]\n",
    "print(number)\n",
    "number.insert(1,\"class2\")\n",
    "print(number)\n"
   ]
  },
  {
   "cell_type": "code",
   "execution_count": null,
   "id": "6e60fa6d",
   "metadata": {},
   "outputs": [],
   "source": []
  },
  {
   "cell_type": "markdown",
   "id": "1dea8822",
   "metadata": {},
   "source": [
    "append() method in python list"
   ]
  },
  {
   "cell_type": "code",
   "execution_count": 4,
   "id": "461e58b2",
   "metadata": {},
   "outputs": [
    {
     "data": {
      "text/plain": [
       "['audi', 'bmw', 'mercedes', 'Tesla']"
      ]
     },
     "execution_count": 4,
     "metadata": {},
     "output_type": "execute_result"
    }
   ],
   "source": [
    "cars=['audi', 'bmw', 'mercedes']\n",
    "cars.append('Tesla')\n",
    "cars"
   ]
  },
  {
   "cell_type": "code",
   "execution_count": null,
   "id": "2c902b18",
   "metadata": {},
   "outputs": [],
   "source": []
  },
  {
   "cell_type": "code",
   "execution_count": 7,
   "id": "372838fe",
   "metadata": {},
   "outputs": [
    {
     "data": {
      "text/plain": [
       "121"
      ]
     },
     "execution_count": 7,
     "metadata": {},
     "output_type": "execute_result"
    }
   ],
   "source": [
    "prime=[1,2,3,5,7,11]\n",
    "for item in prime:\n",
    "    square = item**2\n",
    "square"
   ]
  },
  {
   "cell_type": "code",
   "execution_count": null,
   "id": "e7b29b1d",
   "metadata": {},
   "outputs": [],
   "source": []
  },
  {
   "cell_type": "code",
   "execution_count": 9,
   "id": "0623db7f",
   "metadata": {},
   "outputs": [
    {
     "data": {
      "text/plain": [
       "[1, 4, 9, 25, 49, 121]"
      ]
     },
     "execution_count": 9,
     "metadata": {},
     "output_type": "execute_result"
    }
   ],
   "source": [
    "prime=[1,2,3,5,7,11] \n",
    "number_squares=[]   #creates empty list\n",
    "number_squares= list() #creates empty list\n",
    "for item in prime:\n",
    "    square = item**2\n",
    "    number_squares.append(square)\n",
    "number_squares\n"
   ]
  },
  {
   "cell_type": "code",
   "execution_count": 10,
   "id": "98b32ac8",
   "metadata": {},
   "outputs": [
    {
     "name": "stdout",
     "output_type": "stream",
     "text": [
      "[]\n",
      "[1]\n",
      "[1, 4]\n",
      "[1, 4, 9]\n",
      "[1, 4, 9, 25]\n",
      "[1, 4, 9, 25, 49]\n"
     ]
    },
    {
     "data": {
      "text/plain": [
       "[1, 4, 9, 25, 49, 121]"
      ]
     },
     "execution_count": 10,
     "metadata": {},
     "output_type": "execute_result"
    }
   ],
   "source": [
    "prime=[1,2,3,5,7,11] \n",
    "number_squares=[]   #creates empty list\n",
    "number_squares= list() #creates empty list\n",
    "for item in prime:\n",
    "    print(number_squares)\n",
    "    square = item**2\n",
    "    number_squares.append(square)\n",
    "number_squares"
   ]
  },
  {
   "cell_type": "code",
   "execution_count": null,
   "id": "6544fe5a",
   "metadata": {},
   "outputs": [],
   "source": []
  },
  {
   "cell_type": "code",
   "execution_count": 14,
   "id": "65f5af49",
   "metadata": {},
   "outputs": [
    {
     "name": "stdout",
     "output_type": "stream",
     "text": [
      "['marker', 'board', 'flex', 'duster', 'pen', 'paper']\n",
      "['duster', 'pen', 'paper']\n"
     ]
    }
   ],
   "source": [
    "list1 =['marker', 'board', 'flex']\n",
    "list2 =['duster', 'pen', 'paper']\n",
    "list1.extend(list2)\n",
    "print(list1)\n",
    "print(list2)"
   ]
  },
  {
   "cell_type": "code",
   "execution_count": 16,
   "id": "9eebbcc1",
   "metadata": {},
   "outputs": [
    {
     "data": {
      "text/plain": [
       "['marker', 'board', 'flex', 'duster', 'pen', 'paper']"
      ]
     },
     "execution_count": 16,
     "metadata": {},
     "output_type": "execute_result"
    }
   ],
   "source": [
    "list1 =['marker', 'board', 'flex']\n",
    "list2 =['duster', 'pen', 'paper']\n",
    "list3 =list1+list2\n",
    "list3"
   ]
  },
  {
   "cell_type": "code",
   "execution_count": null,
   "id": "6406a1e1",
   "metadata": {},
   "outputs": [],
   "source": []
  },
  {
   "cell_type": "code",
   "execution_count": null,
   "id": "47332025",
   "metadata": {},
   "outputs": [],
   "source": []
  },
  {
   "cell_type": "code",
   "execution_count": 17,
   "id": "5c06ee78",
   "metadata": {},
   "outputs": [
    {
     "data": {
      "text/plain": [
       "['board', 'flex', 'duster', 'pen', 'paper']"
      ]
     },
     "execution_count": 17,
     "metadata": {},
     "output_type": "execute_result"
    }
   ],
   "source": [
    "list3.remove(\"marker\")\n",
    "list3"
   ]
  },
  {
   "cell_type": "code",
   "execution_count": null,
   "id": "5f79387f",
   "metadata": {},
   "outputs": [],
   "source": []
  },
  {
   "cell_type": "code",
   "execution_count": 21,
   "id": "32e5e01b",
   "metadata": {},
   "outputs": [],
   "source": [
    "cars=['audi', 'bmw', 'mercedes','audi']"
   ]
  },
  {
   "cell_type": "code",
   "execution_count": 22,
   "id": "01729642",
   "metadata": {},
   "outputs": [
    {
     "data": {
      "text/plain": [
       "['bmw', 'mercedes', 'audi']"
      ]
     },
     "execution_count": 22,
     "metadata": {},
     "output_type": "execute_result"
    }
   ],
   "source": [
    "cars.remove('audi')\n",
    "cars"
   ]
  },
  {
   "cell_type": "code",
   "execution_count": null,
   "id": "124e27eb",
   "metadata": {},
   "outputs": [],
   "source": []
  },
  {
   "cell_type": "code",
   "execution_count": null,
   "id": "738f8e84",
   "metadata": {},
   "outputs": [],
   "source": []
  },
  {
   "cell_type": "markdown",
   "id": "c26758ea",
   "metadata": {},
   "source": [
    "# Python list as stack\n",
    "LIFO Last in first out\n",
    "item appended at last\n"
   ]
  },
  {
   "cell_type": "code",
   "execution_count": 25,
   "id": "1e6de884",
   "metadata": {},
   "outputs": [],
   "source": [
    "cars=['audi', 'bmw', 'mercedes','audi','bmw']\n"
   ]
  },
  {
   "cell_type": "code",
   "execution_count": 26,
   "id": "2bfef471",
   "metadata": {},
   "outputs": [
    {
     "data": {
      "text/plain": [
       "'bmw'"
      ]
     },
     "execution_count": 26,
     "metadata": {},
     "output_type": "execute_result"
    }
   ],
   "source": [
    "cars.pop()"
   ]
  },
  {
   "cell_type": "code",
   "execution_count": 27,
   "id": "0c3f7b23",
   "metadata": {},
   "outputs": [
    {
     "data": {
      "text/plain": [
       "['audi', 'bmw', 'mercedes', 'audi']"
      ]
     },
     "execution_count": 27,
     "metadata": {},
     "output_type": "execute_result"
    }
   ],
   "source": [
    "cars"
   ]
  },
  {
   "cell_type": "code",
   "execution_count": null,
   "id": "18b9780e",
   "metadata": {},
   "outputs": [],
   "source": []
  },
  {
   "cell_type": "code",
   "execution_count": null,
   "id": "26ced782",
   "metadata": {},
   "outputs": [],
   "source": []
  },
  {
   "cell_type": "markdown",
   "id": "702a241f",
   "metadata": {},
   "source": [
    "# pop using index"
   ]
  },
  {
   "cell_type": "code",
   "execution_count": 28,
   "id": "c208ccc8",
   "metadata": {},
   "outputs": [],
   "source": [
    "cars=['audi', 'bmw', 'mercedes','audi','bmw']"
   ]
  },
  {
   "cell_type": "code",
   "execution_count": 29,
   "id": "79338274",
   "metadata": {},
   "outputs": [
    {
     "data": {
      "text/plain": [
       "'bmw'"
      ]
     },
     "execution_count": 29,
     "metadata": {},
     "output_type": "execute_result"
    }
   ],
   "source": [
    "cars.pop(1)"
   ]
  },
  {
   "cell_type": "code",
   "execution_count": 30,
   "id": "193044a2",
   "metadata": {},
   "outputs": [
    {
     "data": {
      "text/plain": [
       "['audi', 'mercedes', 'audi', 'bmw']"
      ]
     },
     "execution_count": 30,
     "metadata": {},
     "output_type": "execute_result"
    }
   ],
   "source": [
    "cars"
   ]
  },
  {
   "cell_type": "code",
   "execution_count": null,
   "id": "31f16385",
   "metadata": {},
   "outputs": [],
   "source": []
  },
  {
   "cell_type": "code",
   "execution_count": null,
   "id": "2b32bdc5",
   "metadata": {},
   "outputs": [],
   "source": []
  },
  {
   "cell_type": "code",
   "execution_count": null,
   "id": "f2b1607e",
   "metadata": {},
   "outputs": [],
   "source": []
  },
  {
   "cell_type": "markdown",
   "id": "d082d13f",
   "metadata": {},
   "source": [
    "# sorting in python"
   ]
  },
  {
   "cell_type": "code",
   "execution_count": 32,
   "id": "6c3c791c",
   "metadata": {},
   "outputs": [],
   "source": [
    "cars=['audi', 'bmw', 'mercedes','audi','bmw']"
   ]
  },
  {
   "cell_type": "code",
   "execution_count": 34,
   "id": "86868f79",
   "metadata": {},
   "outputs": [
    {
     "data": {
      "text/plain": [
       "[-7, -1, 0, 22, 33]"
      ]
     },
     "execution_count": 34,
     "metadata": {},
     "output_type": "execute_result"
    }
   ],
   "source": [
    "nums=[22,-1,0,33,-7]\n",
    "nums.sort()\n",
    "nums"
   ]
  },
  {
   "cell_type": "code",
   "execution_count": 37,
   "id": "d19009d6",
   "metadata": {},
   "outputs": [
    {
     "data": {
      "text/plain": [
       "[33, 22, 0, -1, -7]"
      ]
     },
     "execution_count": 37,
     "metadata": {},
     "output_type": "execute_result"
    }
   ],
   "source": [
    "nums.sort(reverse= True)   #desending order\n",
    "nums"
   ]
  },
  {
   "cell_type": "code",
   "execution_count": null,
   "id": "8d09e3a1",
   "metadata": {},
   "outputs": [],
   "source": []
  },
  {
   "cell_type": "code",
   "execution_count": null,
   "id": "60453ce5",
   "metadata": {},
   "outputs": [],
   "source": []
  },
  {
   "cell_type": "code",
   "execution_count": null,
   "id": "7042f564",
   "metadata": {},
   "outputs": [],
   "source": []
  },
  {
   "cell_type": "code",
   "execution_count": null,
   "id": "569ae1a9",
   "metadata": {},
   "outputs": [],
   "source": []
  }
 ],
 "metadata": {
  "kernelspec": {
   "display_name": "Python 3 (ipykernel)",
   "language": "python",
   "name": "python3"
  },
  "language_info": {
   "codemirror_mode": {
    "name": "ipython",
    "version": 3
   },
   "file_extension": ".py",
   "mimetype": "text/x-python",
   "name": "python",
   "nbconvert_exporter": "python",
   "pygments_lexer": "ipython3",
   "version": "3.8.10"
  }
 },
 "nbformat": 4,
 "nbformat_minor": 5
}
