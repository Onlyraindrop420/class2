{
 "cells": [
  {
   "cell_type": "markdown",
   "id": "3adcbbe5",
   "metadata": {},
   "source": [
    "# Algebra with python/ pyhton calculator"
   ]
  },
  {
   "cell_type": "code",
   "execution_count": 1,
   "id": "2f001c12",
   "metadata": {},
   "outputs": [
    {
     "data": {
      "text/plain": [
       "2"
      ]
     },
     "execution_count": 1,
     "metadata": {},
     "output_type": "execute_result"
    }
   ],
   "source": [
    "2"
   ]
  },
  {
   "cell_type": "code",
   "execution_count": 2,
   "id": "78b970aa",
   "metadata": {},
   "outputs": [
    {
     "data": {
      "text/plain": [
       "8"
      ]
     },
     "execution_count": 2,
     "metadata": {},
     "output_type": "execute_result"
    }
   ],
   "source": [
    "17//2"
   ]
  },
  {
   "cell_type": "code",
   "execution_count": 3,
   "id": "07e43369",
   "metadata": {},
   "outputs": [
    {
     "data": {
      "text/plain": [
       "8.5"
      ]
     },
     "execution_count": 3,
     "metadata": {},
     "output_type": "execute_result"
    }
   ],
   "source": [
    "17/2"
   ]
  },
  {
   "cell_type": "code",
   "execution_count": 4,
   "id": "55b71f49",
   "metadata": {},
   "outputs": [
    {
     "name": "stdout",
     "output_type": "stream",
     "text": [
      "40\n"
     ]
    }
   ],
   "source": [
    "a=20\n",
    "b=20\n",
    "c=a + b\n",
    "print(c)"
   ]
  },
  {
   "cell_type": "code",
   "execution_count": 6,
   "id": "67f43f7e",
   "metadata": {},
   "outputs": [
    {
     "name": "stdout",
     "output_type": "stream",
     "text": [
      "10\n"
     ]
    }
   ],
   "source": [
    "x=20\n",
    "y=10\n",
    "difference=x - y\n",
    "print(difference)"
   ]
  },
  {
   "cell_type": "markdown",
   "id": "0bd57a73",
   "metadata": {},
   "source": [
    "## Assignment\n",
    "\n",
    " Write calculator program of remaining arithmatic operators.\n",
    " * Multiplication\n",
    " * Division\n",
    " * Exponential\n",
    " * Floor Division\n",
    " * Modulus"
   ]
  },
  {
   "cell_type": "code",
   "execution_count": null,
   "id": "6d9e30a7",
   "metadata": {},
   "outputs": [],
   "source": []
  }
 ],
 "metadata": {
  "kernelspec": {
   "display_name": "Python 3 (ipykernel)",
   "language": "python",
   "name": "python3"
  },
  "language_info": {
   "codemirror_mode": {
    "name": "ipython",
    "version": 3
   },
   "file_extension": ".py",
   "mimetype": "text/x-python",
   "name": "python",
   "nbconvert_exporter": "python",
   "pygments_lexer": "ipython3",
   "version": "3.8.10"
  }
 },
 "nbformat": 4,
 "nbformat_minor": 5
}
