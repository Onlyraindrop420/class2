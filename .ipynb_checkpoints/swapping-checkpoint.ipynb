{
 "cells": [
  {
   "cell_type": "code",
   "execution_count": 1,
   "id": "812cc84a",
   "metadata": {},
   "outputs": [],
   "source": [
    "num1=2.5\n",
    "num2=0.36"
   ]
  },
  {
   "cell_type": "code",
   "execution_count": 2,
   "id": "3d5ff025",
   "metadata": {},
   "outputs": [],
   "source": [
    "temp=num1"
   ]
  },
  {
   "cell_type": "code",
   "execution_count": 3,
   "id": "7420b549",
   "metadata": {},
   "outputs": [],
   "source": [
    "num1=num2\n",
    "temp=num1"
   ]
  },
  {
   "cell_type": "code",
   "execution_count": 4,
   "id": "1b24ca3d",
   "metadata": {},
   "outputs": [
    {
     "data": {
      "text/plain": [
       "0.36"
      ]
     },
     "execution_count": 4,
     "metadata": {},
     "output_type": "execute_result"
    }
   ],
   "source": [
    "num2"
   ]
  },
  {
   "cell_type": "code",
   "execution_count": 5,
   "id": "dd99d044",
   "metadata": {},
   "outputs": [
    {
     "data": {
      "text/plain": [
       "0.36"
      ]
     },
     "execution_count": 5,
     "metadata": {},
     "output_type": "execute_result"
    }
   ],
   "source": [
    "num1"
   ]
  },
  {
   "cell_type": "code",
   "execution_count": null,
   "id": "af7b541d",
   "metadata": {},
   "outputs": [],
   "source": []
  }
 ],
 "metadata": {
  "kernelspec": {
   "display_name": "Python 3 (ipykernel)",
   "language": "python",
   "name": "python3"
  },
  "language_info": {
   "codemirror_mode": {
    "name": "ipython",
    "version": 3
   },
   "file_extension": ".py",
   "mimetype": "text/x-python",
   "name": "python",
   "nbconvert_exporter": "python",
   "pygments_lexer": "ipython3",
   "version": "3.8.10"
  }
 },
 "nbformat": 4,
 "nbformat_minor": 5
}
