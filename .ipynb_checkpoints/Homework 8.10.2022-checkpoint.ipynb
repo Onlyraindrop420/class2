{
 "cells": [
  {
   "cell_type": "markdown",
   "id": "ea19a328",
   "metadata": {},
   "source": [
    "# Calculator\n",
    "Calculate total seconds in time input"
   ]
  },
  {
   "cell_type": "code",
   "execution_count": 34,
   "id": "b94d2667",
   "metadata": {},
   "outputs": [
    {
     "name": "stdout",
     "output_type": "stream",
     "text": [
      "Enter Hour:1\n",
      "Enter seconds:10\n",
      "The total seconds is:\n",
      "3610\n"
     ]
    }
   ],
   "source": [
    "x = input (\"Enter Hour:\")\n",
    "a = int(x)\n",
    "y = input ('Enter seconds:')\n",
    "b = int(y)\n",
    "z = a * 60 *60\n",
    "c = z + b\n",
    "print (\"The total seconds is:\")\n",
    "print (c)"
   ]
  },
  {
   "cell_type": "markdown",
   "id": "75e70f30",
   "metadata": {},
   "source": [
    "Convert Kilometers into miles"
   ]
  },
  {
   "cell_type": "code",
   "execution_count": 22,
   "id": "ce3935d9",
   "metadata": {},
   "outputs": [
    {
     "name": "stdout",
     "output_type": "stream",
     "text": [
      "Enter Kilometer:1.60934\n",
      "miles converted is:\n",
      "1.0\n"
     ]
    }
   ],
   "source": [
    "x = input (\"Enter Kilometer:\")\n",
    "a = float(x)\n",
    "z = a / 1.60934\n",
    "print(\"miles converted is:\")\n",
    "print (z)"
   ]
  },
  {
   "cell_type": "code",
   "execution_count": 23,
   "id": "bb59f66a",
   "metadata": {},
   "outputs": [
    {
     "name": "stdout",
     "output_type": "stream",
     "text": [
      "Enter kilometer you ran:10\n",
      "Enter Time it took in minute:42\n",
      "Enter seconds:42\n",
      "The pace in miles per second is:\n",
      "0.0024253424537463183\n",
      " the pace in miles per minute is\n",
      "0.14552054722477908\n"
     ]
    }
   ],
   "source": [
    "x = input (\"Enter kilometer you ran:\")\n",
    "a = float(x)\n",
    "f= a / 1.60934\n",
    "y = input ('Enter Time it took in minute:')\n",
    "minute = int(y)\n",
    "z = input ('Enter seconds:')\n",
    "second = int(z)\n",
    "mintosec = minute * 60\n",
    "totaltime = mintosec + second\n",
    "totalmin = totaltime / 60\n",
    "pacesec = f / totaltime\n",
    "pacemin = f / totalmin\n",
    "print (\"The pace in miles per second is:\")\n",
    "print (pacesec)\n",
    "print (\" the pace in miles per minute is\")\n",
    "print (pacemin)"
   ]
  },
  {
   "cell_type": "markdown",
   "id": "3dfbfa7d",
   "metadata": {},
   "source": [
    "# Volume of Sphere Calculator"
   ]
  },
  {
   "cell_type": "code",
   "execution_count": 32,
   "id": "584aa064",
   "metadata": {},
   "outputs": [
    {
     "name": "stdout",
     "output_type": "stream",
     "text": [
      "enter radius in cm:1\n",
      "Volume is: 4.19047619047619\n"
     ]
    }
   ],
   "source": [
    "a = input(\"enter radius in cm:\")\n",
    "r = float(a)\n",
    "R = r**3\n",
    "pi = 22/7\n",
    "c = (4/3)* pi * R\n",
    "print (\"Volume is:\", c)"
   ]
  },
  {
   "cell_type": "code",
   "execution_count": null,
   "id": "750a77dc",
   "metadata": {},
   "outputs": [],
   "source": []
  },
  {
   "cell_type": "code",
   "execution_count": null,
   "id": "3e4f318d",
   "metadata": {},
   "outputs": [],
   "source": []
  },
  {
   "cell_type": "code",
   "execution_count": null,
   "id": "8cb07339",
   "metadata": {},
   "outputs": [],
   "source": []
  },
  {
   "cell_type": "code",
   "execution_count": null,
   "id": "0ed7703b",
   "metadata": {},
   "outputs": [],
   "source": []
  }
 ],
 "metadata": {
  "kernelspec": {
   "display_name": "Python 3 (ipykernel)",
   "language": "python",
   "name": "python3"
  },
  "language_info": {
   "codemirror_mode": {
    "name": "ipython",
    "version": 3
   },
   "file_extension": ".py",
   "mimetype": "text/x-python",
   "name": "python",
   "nbconvert_exporter": "python",
   "pygments_lexer": "ipython3",
   "version": "3.8.10"
  }
 },
 "nbformat": 4,
 "nbformat_minor": 5
}
