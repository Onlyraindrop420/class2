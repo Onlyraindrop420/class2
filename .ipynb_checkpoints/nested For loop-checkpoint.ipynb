{
 "cells": [
  {
   "cell_type": "code",
   "execution_count": null,
   "id": "ad151cdb",
   "metadata": {},
   "outputs": [],
   "source": [
    "list=[[1,2,3],[1,2],[44,55,66]]"
   ]
  },
  {
   "cell_type": "code",
   "execution_count": null,
   "id": "862cc6ae",
   "metadata": {},
   "outputs": [],
   "source": [
    "for i in list:\n",
    "    print(i)"
   ]
  },
  {
   "cell_type": "code",
   "execution_count": null,
   "id": "29e755c4",
   "metadata": {},
   "outputs": [],
   "source": [
    "for i in range(3):\n",
    "    print(\"----------\")\n",
    "    print(\"i={}\".format(i))\n",
    "    print(\"-------------\")\n",
    "    for j in range(5):\n",
    "        print(\"j={}\".format(j))\n",
    "    "
   ]
  },
  {
   "cell_type": "code",
   "execution_count": null,
   "id": "80f63283",
   "metadata": {},
   "outputs": [],
   "source": []
  },
  {
   "cell_type": "code",
   "execution_count": 7,
   "id": "9f3e5531",
   "metadata": {},
   "outputs": [],
   "source": [
    "list1 = [[1,2,3],[1,2],[44,55,66]]\n"
   ]
  },
  {
   "cell_type": "code",
   "execution_count": 8,
   "id": "04db7cbb",
   "metadata": {},
   "outputs": [],
   "source": [
    "totallist = []"
   ]
  },
  {
   "cell_type": "code",
   "execution_count": 9,
   "id": "4e6ee8d1",
   "metadata": {},
   "outputs": [
    {
     "data": {
      "text/plain": [
       "[6, 3, 165]"
      ]
     },
     "execution_count": 9,
     "metadata": {},
     "output_type": "execute_result"
    }
   ],
   "source": [
    "for i in list1:\n",
    "    total = 0\n",
    "    for j in i:\n",
    "        total = total + j\n",
    "    totallist.append(total)\n",
    "totallist"
   ]
  },
  {
   "cell_type": "code",
   "execution_count": null,
   "id": "c31b6a6c",
   "metadata": {},
   "outputs": [],
   "source": []
  },
  {
   "cell_type": "code",
   "execution_count": null,
   "id": "b7ebd181",
   "metadata": {},
   "outputs": [],
   "source": []
  },
  {
   "cell_type": "code",
   "execution_count": null,
   "id": "010aa509",
   "metadata": {},
   "outputs": [],
   "source": []
  },
  {
   "cell_type": "code",
   "execution_count": null,
   "id": "133a88fc",
   "metadata": {},
   "outputs": [],
   "source": []
  },
  {
   "cell_type": "code",
   "execution_count": null,
   "id": "d73bc152",
   "metadata": {},
   "outputs": [],
   "source": []
  },
  {
   "cell_type": "code",
   "execution_count": null,
   "id": "6c529eba",
   "metadata": {},
   "outputs": [],
   "source": []
  }
 ],
 "metadata": {
  "kernelspec": {
   "display_name": "Python 3 (ipykernel)",
   "language": "python",
   "name": "python3"
  },
  "language_info": {
   "codemirror_mode": {
    "name": "ipython",
    "version": 3
   },
   "file_extension": ".py",
   "mimetype": "text/x-python",
   "name": "python",
   "nbconvert_exporter": "python",
   "pygments_lexer": "ipython3",
   "version": "3.8.10"
  }
 },
 "nbformat": 4,
 "nbformat_minor": 5
}
