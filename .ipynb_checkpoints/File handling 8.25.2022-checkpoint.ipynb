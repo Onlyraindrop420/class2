{
 "cells": [
  {
   "cell_type": "code",
   "execution_count": 19,
   "id": "adc31f9e",
   "metadata": {},
   "outputs": [],
   "source": [
    "FILENAME =\"file.txt\"\n",
    "file= open(FILENAME)"
   ]
  },
  {
   "cell_type": "code",
   "execution_count": 20,
   "id": "a561f5c1",
   "metadata": {},
   "outputs": [
    {
     "data": {
      "text/plain": [
       "<_io.TextIOWrapper name='file.txt' mode='r' encoding='cp1252'>"
      ]
     },
     "execution_count": 20,
     "metadata": {},
     "output_type": "execute_result"
    }
   ],
   "source": [
    "file"
   ]
  },
  {
   "cell_type": "code",
   "execution_count": 21,
   "id": "5cc86b34",
   "metadata": {},
   "outputs": [
    {
     "data": {
      "text/plain": [
       "'In the last decade, the market for disposable sanitary pads has skyrocketed, with aisles in supermarkets filled with imported and home-grown sanitary pads, tampons and pantyliners. While disposable sanitary pads have revolutionised how menstruation is managed globally, the unsustainability of plastic- and chemical-based period products is also becoming a highly debated issue.\\n\\nhttps://tkpo.st/3Td5KWV\\nAs menstruators seek more comfortable and sustainable menstrual products, one of the innovations that is slashing the number of pads going into landfills worldwide is WUKA period pants.\\n\\nhttps://tkpo.st/3Td5KWV'"
      ]
     },
     "execution_count": 21,
     "metadata": {},
     "output_type": "execute_result"
    }
   ],
   "source": [
    "file.read()"
   ]
  },
  {
   "cell_type": "code",
   "execution_count": 22,
   "id": "45ddd546",
   "metadata": {},
   "outputs": [
    {
     "data": {
      "text/plain": [
       "['In the last decade, the market for disposable sanitary pads has skyrocketed, with aisles in supermarkets filled with imported and home-grown sanitary pads, tampons and pantyliners. While disposable sanitary pads have revolutionised how menstruation is managed globally, the unsustainability of plastic- and chemical-based period products is also becoming a highly debated issue.\\n',\n",
       " '\\n',\n",
       " 'https://tkpo.st/3Td5KWV\\n',\n",
       " 'As menstruators seek more comfortable and sustainable menstrual products, one of the innovations that is slashing the number of pads going into landfills worldwide is WUKA period pants.\\n',\n",
       " '\\n',\n",
       " 'https://tkpo.st/3Td5KWV']"
      ]
     },
     "execution_count": 22,
     "metadata": {},
     "output_type": "execute_result"
    }
   ],
   "source": [
    "file= open(FILENAME)\n",
    "file.readlines()"
   ]
  },
  {
   "cell_type": "code",
   "execution_count": 23,
   "id": "7eec778e",
   "metadata": {},
   "outputs": [],
   "source": [
    "with open(\"file.txt\",\"r\") as f:\n",
    "    file=f.read()"
   ]
  },
  {
   "cell_type": "code",
   "execution_count": 24,
   "id": "db584ba3",
   "metadata": {},
   "outputs": [
    {
     "data": {
      "text/plain": [
       "'In the last decade, the market for disposable sanitary pads has skyrocketed, with aisles in supermarkets filled with imported and home-grown sanitary pads, tampons and pantyliners. While disposable sanitary pads have revolutionised how menstruation is managed globally, the unsustainability of plastic- and chemical-based period products is also becoming a highly debated issue.\\n\\nhttps://tkpo.st/3Td5KWV\\nAs menstruators seek more comfortable and sustainable menstrual products, one of the innovations that is slashing the number of pads going into landfills worldwide is WUKA period pants.\\n\\nhttps://tkpo.st/3Td5KWV'"
      ]
     },
     "execution_count": 24,
     "metadata": {},
     "output_type": "execute_result"
    }
   ],
   "source": [
    "file"
   ]
  },
  {
   "cell_type": "code",
   "execution_count": null,
   "id": "70ada06a",
   "metadata": {},
   "outputs": [],
   "source": []
  },
  {
   "cell_type": "code",
   "execution_count": null,
   "id": "d3d95878",
   "metadata": {},
   "outputs": [],
   "source": []
  },
  {
   "cell_type": "code",
   "execution_count": null,
   "id": "a499ef53",
   "metadata": {},
   "outputs": [],
   "source": []
  },
  {
   "cell_type": "code",
   "execution_count": null,
   "id": "6d7b58f9",
   "metadata": {},
   "outputs": [],
   "source": []
  },
  {
   "cell_type": "code",
   "execution_count": null,
   "id": "e1cd2014",
   "metadata": {},
   "outputs": [],
   "source": []
  },
  {
   "cell_type": "code",
   "execution_count": null,
   "id": "3ea03a95",
   "metadata": {},
   "outputs": [],
   "source": []
  }
 ],
 "metadata": {
  "kernelspec": {
   "display_name": "Python 3 (ipykernel)",
   "language": "python",
   "name": "python3"
  },
  "language_info": {
   "codemirror_mode": {
    "name": "ipython",
    "version": 3
   },
   "file_extension": ".py",
   "mimetype": "text/x-python",
   "name": "python",
   "nbconvert_exporter": "python",
   "pygments_lexer": "ipython3",
   "version": "3.8.10"
  }
 },
 "nbformat": 4,
 "nbformat_minor": 5
}
