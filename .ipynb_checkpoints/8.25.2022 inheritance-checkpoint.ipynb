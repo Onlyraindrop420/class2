{
 "cells": [
  {
   "cell_type": "markdown",
   "id": "37b55ef1",
   "metadata": {},
   "source": [
    "# single inheritance"
   ]
  },
  {
   "cell_type": "code",
   "execution_count": 4,
   "id": "325d6d5d",
   "metadata": {},
   "outputs": [],
   "source": [
    "class computer:\n",
    "    def __init__(self,ram,storage):\n",
    "        self.ram = ram\n",
    "        self.storage = storage\n"
   ]
  },
  {
   "cell_type": "code",
   "execution_count": 5,
   "id": "ac765b68",
   "metadata": {},
   "outputs": [],
   "source": [
    "class mobile(computer):\n",
    "    def __init__(self,ram,storage,camera_pixel):\n",
    "        self.camera_pixel = camera_pixel\n",
    "        super().__init__(ram,storage)"
   ]
  },
  {
   "cell_type": "code",
   "execution_count": 6,
   "id": "a7fd6033",
   "metadata": {},
   "outputs": [],
   "source": [
    "m= mobile(8,128,108)"
   ]
  },
  {
   "cell_type": "code",
   "execution_count": 7,
   "id": "2bc40c4f",
   "metadata": {},
   "outputs": [
    {
     "data": {
      "text/plain": [
       "108"
      ]
     },
     "execution_count": 7,
     "metadata": {},
     "output_type": "execute_result"
    }
   ],
   "source": [
    "m.camera_pixel"
   ]
  },
  {
   "cell_type": "code",
   "execution_count": 8,
   "id": "afa4e97a",
   "metadata": {},
   "outputs": [
    {
     "data": {
      "text/plain": [
       "8"
      ]
     },
     "execution_count": 8,
     "metadata": {},
     "output_type": "execute_result"
    }
   ],
   "source": [
    "m.ram"
   ]
  },
  {
   "cell_type": "code",
   "execution_count": 9,
   "id": "a37c42f2",
   "metadata": {},
   "outputs": [
    {
     "data": {
      "text/plain": [
       "128"
      ]
     },
     "execution_count": 9,
     "metadata": {},
     "output_type": "execute_result"
    }
   ],
   "source": [
    "m.storage"
   ]
  },
  {
   "cell_type": "raw",
   "id": "35e43a49",
   "metadata": {},
   "source": []
  },
  {
   "cell_type": "markdown",
   "id": "be38189c",
   "metadata": {},
   "source": [
    "# multiple inheritance"
   ]
  },
  {
   "cell_type": "code",
   "execution_count": 21,
   "id": "09c1c873",
   "metadata": {},
   "outputs": [],
   "source": [
    "class father:\n",
    "    def __init__(self,fathername):\n",
    "        self.fathername= fathername\n",
    "class mother:\n",
    "    def __init__(self,mothername):\n",
    "        self.mothername= mothername\n",
    "        "
   ]
  },
  {
   "cell_type": "code",
   "execution_count": 22,
   "id": "5541bea0",
   "metadata": {},
   "outputs": [],
   "source": [
    "class child(father,mother):\n",
    "        def __init__(self,childname,fathername,mothername):\n",
    "            father.__init__(self,fathername)\n",
    "            mother.__init__(self,mothername)\n",
    "            \n"
   ]
  },
  {
   "cell_type": "code",
   "execution_count": 23,
   "id": "81ead937",
   "metadata": {},
   "outputs": [],
   "source": [
    "c=child(\"lov-kush\",\"ram\",\"sita\")\n"
   ]
  },
  {
   "cell_type": "code",
   "execution_count": 24,
   "id": "1997422e",
   "metadata": {},
   "outputs": [
    {
     "data": {
      "text/plain": [
       "'sita'"
      ]
     },
     "execution_count": 24,
     "metadata": {},
     "output_type": "execute_result"
    }
   ],
   "source": [
    "c.mothername"
   ]
  },
  {
   "cell_type": "code",
   "execution_count": 25,
   "id": "da99d567",
   "metadata": {},
   "outputs": [
    {
     "data": {
      "text/plain": [
       "'ram'"
      ]
     },
     "execution_count": 25,
     "metadata": {},
     "output_type": "execute_result"
    }
   ],
   "source": [
    "c.fathername"
   ]
  },
  {
   "cell_type": "code",
   "execution_count": 26,
   "id": "2803564d",
   "metadata": {},
   "outputs": [
    {
     "ename": "AttributeError",
     "evalue": "'child' object has no attribute 'childname'",
     "output_type": "error",
     "traceback": [
      "\u001b[1;31m---------------------------------------------------------------------------\u001b[0m",
      "\u001b[1;31mAttributeError\u001b[0m                            Traceback (most recent call last)",
      "Input \u001b[1;32mIn [26]\u001b[0m, in \u001b[0;36m<cell line: 1>\u001b[1;34m()\u001b[0m\n\u001b[1;32m----> 1\u001b[0m \u001b[43mc\u001b[49m\u001b[38;5;241;43m.\u001b[39;49m\u001b[43m \u001b[49m\u001b[43mchildname\u001b[49m\n",
      "\u001b[1;31mAttributeError\u001b[0m: 'child' object has no attribute 'childname'"
     ]
    }
   ],
   "source": [
    "c. childname"
   ]
  },
  {
   "cell_type": "code",
   "execution_count": null,
   "id": "4b691193",
   "metadata": {},
   "outputs": [],
   "source": []
  },
  {
   "cell_type": "code",
   "execution_count": null,
   "id": "e4499638",
   "metadata": {},
   "outputs": [],
   "source": []
  },
  {
   "cell_type": "markdown",
   "id": "c02e3a39",
   "metadata": {},
   "source": [
    "# multilevel inheritance"
   ]
  },
  {
   "cell_type": "markdown",
   "id": "cc0f0392",
   "metadata": {},
   "source": [
    "# heirarchial inheritance"
   ]
  },
  {
   "cell_type": "code",
   "execution_count": null,
   "id": "bacb8282",
   "metadata": {},
   "outputs": [],
   "source": []
  },
  {
   "cell_type": "markdown",
   "id": "8ebe7118",
   "metadata": {},
   "source": [
    "# operator overloading in user defined class"
   ]
  },
  {
   "cell_type": "code",
   "execution_count": 28,
   "id": "fbb39e88",
   "metadata": {},
   "outputs": [],
   "source": [
    "class person:\n",
    "    def __init__(self,name,balance):\n",
    "        self.name=name\n",
    "        self.balance=balance\n",
    "        \n",
    "    def __add__(self,nextobj):\n",
    "        return self.balance + nextobj.balance"
   ]
  },
  {
   "cell_type": "code",
   "execution_count": 29,
   "id": "e5ad2bff",
   "metadata": {},
   "outputs": [],
   "source": [
    "p1=person(\"nishan\",100)\n",
    "p2=person(\"niraj\",50)"
   ]
  },
  {
   "cell_type": "code",
   "execution_count": 30,
   "id": "45e6d560",
   "metadata": {},
   "outputs": [
    {
     "data": {
      "text/plain": [
       "150"
      ]
     },
     "execution_count": 30,
     "metadata": {},
     "output_type": "execute_result"
    }
   ],
   "source": [
    "p1+p2"
   ]
  },
  {
   "cell_type": "code",
   "execution_count": null,
   "id": "6e32947b",
   "metadata": {},
   "outputs": [],
   "source": []
  },
  {
   "cell_type": "markdown",
   "id": "4bd9a936",
   "metadata": {},
   "source": [
    "# Dunder or magic methods"
   ]
  },
  {
   "cell_type": "code",
   "execution_count": null,
   "id": "37cf8dba",
   "metadata": {},
   "outputs": [],
   "source": []
  },
  {
   "cell_type": "code",
   "execution_count": null,
   "id": "a4c533a1",
   "metadata": {},
   "outputs": [],
   "source": []
  },
  {
   "cell_type": "code",
   "execution_count": null,
   "id": "786d46de",
   "metadata": {},
   "outputs": [],
   "source": []
  },
  {
   "cell_type": "code",
   "execution_count": null,
   "id": "fb83a7a4",
   "metadata": {},
   "outputs": [],
   "source": []
  },
  {
   "cell_type": "code",
   "execution_count": null,
   "id": "5dfce7ae",
   "metadata": {},
   "outputs": [],
   "source": []
  },
  {
   "cell_type": "code",
   "execution_count": null,
   "id": "b50f65bf",
   "metadata": {},
   "outputs": [],
   "source": []
  },
  {
   "cell_type": "code",
   "execution_count": null,
   "id": "fec2f7a6",
   "metadata": {},
   "outputs": [],
   "source": []
  },
  {
   "cell_type": "code",
   "execution_count": null,
   "id": "dcbfead3",
   "metadata": {},
   "outputs": [],
   "source": []
  },
  {
   "cell_type": "code",
   "execution_count": null,
   "id": "0580fe6e",
   "metadata": {},
   "outputs": [],
   "source": []
  },
  {
   "cell_type": "code",
   "execution_count": null,
   "id": "b1c78a5b",
   "metadata": {},
   "outputs": [],
   "source": []
  },
  {
   "cell_type": "code",
   "execution_count": null,
   "id": "eb03b17f",
   "metadata": {},
   "outputs": [],
   "source": []
  }
 ],
 "metadata": {
  "kernelspec": {
   "display_name": "Python 3 (ipykernel)",
   "language": "python",
   "name": "python3"
  },
  "language_info": {
   "codemirror_mode": {
    "name": "ipython",
    "version": 3
   },
   "file_extension": ".py",
   "mimetype": "text/x-python",
   "name": "python",
   "nbconvert_exporter": "python",
   "pygments_lexer": "ipython3",
   "version": "3.8.10"
  }
 },
 "nbformat": 4,
 "nbformat_minor": 5
}
