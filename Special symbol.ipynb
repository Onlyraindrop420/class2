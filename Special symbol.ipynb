{
 "cells": [
  {
   "cell_type": "code",
   "execution_count": 1,
   "id": "298a4269",
   "metadata": {},
   "outputs": [
    {
     "ename": "SyntaxError",
     "evalue": "invalid syntax (1619043489.py, line 1)",
     "output_type": "error",
     "traceback": [
      "\u001b[1;36m  Input \u001b[1;32mIn [1]\u001b[1;36m\u001b[0m\n\u001b[1;33m    @ = 12\u001b[0m\n\u001b[1;37m      ^\u001b[0m\n\u001b[1;31mSyntaxError\u001b[0m\u001b[1;31m:\u001b[0m invalid syntax\n"
     ]
    }
   ],
   "source": [
    "@ = 12"
   ]
  },
  {
   "cell_type": "code",
   "execution_count": 2,
   "id": "c4d5b3d9",
   "metadata": {},
   "outputs": [],
   "source": [
    "num1=5"
   ]
  },
  {
   "cell_type": "code",
   "execution_count": 3,
   "id": "dbe612c2",
   "metadata": {},
   "outputs": [
    {
     "ename": "SyntaxError",
     "evalue": "invalid syntax (1544542154.py, line 1)",
     "output_type": "error",
     "traceback": [
      "\u001b[1;36m  Input \u001b[1;32mIn [3]\u001b[1;36m\u001b[0m\n\u001b[1;33m    1num=5\u001b[0m\n\u001b[1;37m     ^\u001b[0m\n\u001b[1;31mSyntaxError\u001b[0m\u001b[1;31m:\u001b[0m invalid syntax\n"
     ]
    }
   ],
   "source": [
    "1num=5"
   ]
  },
  {
   "cell_type": "code",
   "execution_count": 4,
   "id": "055a4b9a",
   "metadata": {},
   "outputs": [
    {
     "ename": "SyntaxError",
     "evalue": "invalid syntax (3807187279.py, line 1)",
     "output_type": "error",
     "traceback": [
      "\u001b[1;36m  Input \u001b[1;32mIn [4]\u001b[1;36m\u001b[0m\n\u001b[1;33m    num first=2\u001b[0m\n\u001b[1;37m        ^\u001b[0m\n\u001b[1;31mSyntaxError\u001b[0m\u001b[1;31m:\u001b[0m invalid syntax\n"
     ]
    }
   ],
   "source": [
    "num first=2"
   ]
  },
  {
   "cell_type": "code",
   "execution_count": 5,
   "id": "d2b9d963",
   "metadata": {},
   "outputs": [],
   "source": [
    "num_first=2"
   ]
  },
  {
   "cell_type": "markdown",
   "id": "93079a02",
   "metadata": {},
   "source": [
    "# about.format()"
   ]
  },
  {
   "cell_type": "code",
   "execution_count": 6,
   "id": "9ba0f2b0",
   "metadata": {},
   "outputs": [],
   "source": [
    "first_num=9"
   ]
  },
  {
   "cell_type": "code",
   "execution_count": 7,
   "id": "f5d473ed",
   "metadata": {},
   "outputs": [
    {
     "name": "stdout",
     "output_type": "stream",
     "text": [
      "9\n"
     ]
    }
   ],
   "source": [
    "print(first_num)"
   ]
  },
  {
   "cell_type": "code",
   "execution_count": 9,
   "id": "43531cc7",
   "metadata": {},
   "outputs": [
    {
     "name": "stdout",
     "output_type": "stream",
     "text": [
      "The first number is 9\n"
     ]
    }
   ],
   "source": [
    "print ('The first number is',first_num)"
   ]
  },
  {
   "cell_type": "code",
   "execution_count": 16,
   "id": "48e07767",
   "metadata": {},
   "outputs": [
    {
     "name": "stdout",
     "output_type": "stream",
     "text": [
      "the first number is 9. This is even number is divisible by 2\n"
     ]
    }
   ],
   "source": [
    "print('the first number is {}. This is even number is divisible by {}'.format(first_num,2))"
   ]
  },
  {
   "cell_type": "code",
   "execution_count": null,
   "id": "b9f1a2eb",
   "metadata": {},
   "outputs": [],
   "source": []
  }
 ],
 "metadata": {
  "kernelspec": {
   "display_name": "Python 3 (ipykernel)",
   "language": "python",
   "name": "python3"
  },
  "language_info": {
   "codemirror_mode": {
    "name": "ipython",
    "version": 3
   },
   "file_extension": ".py",
   "mimetype": "text/x-python",
   "name": "python",
   "nbconvert_exporter": "python",
   "pygments_lexer": "ipython3",
   "version": "3.8.10"
  }
 },
 "nbformat": 4,
 "nbformat_minor": 5
}
