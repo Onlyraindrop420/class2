{
 "cells": [
  {
   "cell_type": "code",
   "execution_count": 5,
   "id": "f35399d7",
   "metadata": {},
   "outputs": [
    {
     "data": {
      "text/plain": [
       "3.4"
      ]
     },
     "execution_count": 5,
     "metadata": {},
     "output_type": "execute_result"
    }
   ],
   "source": [
    "tup =(2,4,3,1,7)\n",
    "total=0\n",
    "n=len(tup)\n",
    "for index in range(n):\n",
    "    item=tup[index]\n",
    "    total=item + total\n",
    "total\n",
    "mean=total/n\n",
    "mean"
   ]
  },
  {
   "cell_type": "code",
   "execution_count": 3,
   "id": "8f30fd04",
   "metadata": {},
   "outputs": [],
   "source": []
  },
  {
   "cell_type": "code",
   "execution_count": null,
   "id": "43fb9c86",
   "metadata": {},
   "outputs": [],
   "source": []
  },
  {
   "cell_type": "markdown",
   "id": "f89ea7ce",
   "metadata": {},
   "source": [
    "# Data type: set"
   ]
  },
  {
   "cell_type": "code",
   "execution_count": null,
   "id": "33f040e4",
   "metadata": {},
   "outputs": [],
   "source": []
  },
  {
   "cell_type": "code",
   "execution_count": 6,
   "id": "caae6782",
   "metadata": {},
   "outputs": [
    {
     "data": {
      "text/plain": [
       "set"
      ]
     },
     "execution_count": 6,
     "metadata": {},
     "output_type": "execute_result"
    }
   ],
   "source": [
    "a={2,3,4,5}\n",
    "type(a)"
   ]
  },
  {
   "cell_type": "code",
   "execution_count": 7,
   "id": "a897bb7a",
   "metadata": {},
   "outputs": [
    {
     "name": "stdout",
     "output_type": "stream",
     "text": [
      "{2, 3, 4, 5}\n",
      "{2, 3, 4, 5}\n",
      "{2, 3, 4, 5}\n",
      "{2, 3, 4, 5}\n"
     ]
    }
   ],
   "source": [
    "for item in a:                  #look at home\n",
    "    print(a)"
   ]
  },
  {
   "cell_type": "code",
   "execution_count": null,
   "id": "2f66a025",
   "metadata": {},
   "outputs": [],
   "source": []
  },
  {
   "cell_type": "code",
   "execution_count": 8,
   "id": "95429745",
   "metadata": {},
   "outputs": [
    {
     "data": {
      "text/plain": [
       "{'BHKT', 'POKH', 'ktm'}"
      ]
     },
     "execution_count": 8,
     "metadata": {},
     "output_type": "execute_result"
    }
   ],
   "source": [
    "cities={\"ktm\",\"BTN\",\"POKH\",\"BHKT\"}\n",
    "cities.remove(\"BTN\")\n",
    "cities\n"
   ]
  },
  {
   "cell_type": "code",
   "execution_count": null,
   "id": "4a4b5d92",
   "metadata": {},
   "outputs": [],
   "source": []
  },
  {
   "cell_type": "code",
   "execution_count": 10,
   "id": "e62c73b2",
   "metadata": {},
   "outputs": [
    {
     "data": {
      "text/plain": [
       "{'BHKT', 'BTN', 'POKH', 'ktm'}"
      ]
     },
     "execution_count": 10,
     "metadata": {},
     "output_type": "execute_result"
    }
   ],
   "source": [
    "cities.add(\"BTN\")\n",
    "cities"
   ]
  },
  {
   "cell_type": "code",
   "execution_count": null,
   "id": "37af6d0a",
   "metadata": {},
   "outputs": [],
   "source": []
  },
  {
   "cell_type": "code",
   "execution_count": 15,
   "id": "7042ac10",
   "metadata": {},
   "outputs": [
    {
     "data": {
      "text/plain": [
       "{1, 2, 22}"
      ]
     },
     "execution_count": 15,
     "metadata": {},
     "output_type": "execute_result"
    }
   ],
   "source": [
    "li={1,2,22,1,2}\n",
    "set(li)"
   ]
  },
  {
   "cell_type": "code",
   "execution_count": 24,
   "id": "3857fd46",
   "metadata": {},
   "outputs": [
    {
     "data": {
      "text/plain": [
       "{2, 3, 4, 5}"
      ]
     },
     "execution_count": 24,
     "metadata": {},
     "output_type": "execute_result"
    }
   ],
   "source": [
    "tu=(2,4,5,2,3,4)\n",
    "set(tu)"
   ]
  },
  {
   "cell_type": "code",
   "execution_count": 25,
   "id": "5e0c6a94",
   "metadata": {},
   "outputs": [
    {
     "data": {
      "text/plain": [
       "[2, 4, 5, 2, 3, 4]"
      ]
     },
     "execution_count": 25,
     "metadata": {},
     "output_type": "execute_result"
    }
   ],
   "source": [
    "list(tu)"
   ]
  },
  {
   "cell_type": "code",
   "execution_count": null,
   "id": "e9ba5ba6",
   "metadata": {},
   "outputs": [],
   "source": []
  },
  {
   "cell_type": "code",
   "execution_count": null,
   "id": "393bcd72",
   "metadata": {},
   "outputs": [],
   "source": []
  },
  {
   "cell_type": "code",
   "execution_count": null,
   "id": "ca7d6418",
   "metadata": {},
   "outputs": [],
   "source": []
  },
  {
   "cell_type": "code",
   "execution_count": 18,
   "id": "18859137",
   "metadata": {},
   "outputs": [
    {
     "data": {
      "text/plain": [
       "{5}"
      ]
     },
     "execution_count": 18,
     "metadata": {},
     "output_type": "execute_result"
    }
   ],
   "source": [
    "a={1,2,3,4,5}\n",
    "b={5,6,7,8,9}\n",
    "a.intersection(b)"
   ]
  },
  {
   "cell_type": "code",
   "execution_count": 19,
   "id": "a06f9a69",
   "metadata": {},
   "outputs": [
    {
     "data": {
      "text/plain": [
       "{1, 2, 3, 4, 5, 6, 7, 8, 9}"
      ]
     },
     "execution_count": 19,
     "metadata": {},
     "output_type": "execute_result"
    }
   ],
   "source": [
    "a.union(b)"
   ]
  },
  {
   "cell_type": "code",
   "execution_count": 20,
   "id": "7e8816c6",
   "metadata": {},
   "outputs": [
    {
     "data": {
      "text/plain": [
       "{1, 2, 3, 4}"
      ]
     },
     "execution_count": 20,
     "metadata": {},
     "output_type": "execute_result"
    }
   ],
   "source": [
    "a-b"
   ]
  },
  {
   "cell_type": "code",
   "execution_count": 21,
   "id": "7ed72006",
   "metadata": {},
   "outputs": [
    {
     "data": {
      "text/plain": [
       "{6, 7, 8, 9}"
      ]
     },
     "execution_count": 21,
     "metadata": {},
     "output_type": "execute_result"
    }
   ],
   "source": [
    "b-a"
   ]
  },
  {
   "cell_type": "code",
   "execution_count": 22,
   "id": "fbfb0c78",
   "metadata": {},
   "outputs": [
    {
     "data": {
      "text/plain": [
       "{1, 2, 3, 4}"
      ]
     },
     "execution_count": 22,
     "metadata": {},
     "output_type": "execute_result"
    }
   ],
   "source": [
    "a.difference(b)"
   ]
  },
  {
   "cell_type": "code",
   "execution_count": 23,
   "id": "5f98ad43",
   "metadata": {},
   "outputs": [
    {
     "data": {
      "text/plain": [
       "{6, 7, 8, 9}"
      ]
     },
     "execution_count": 23,
     "metadata": {},
     "output_type": "execute_result"
    }
   ],
   "source": [
    "b.difference(a)"
   ]
  },
  {
   "cell_type": "code",
   "execution_count": null,
   "id": "d490a80e",
   "metadata": {},
   "outputs": [],
   "source": []
  },
  {
   "cell_type": "markdown",
   "id": "34fb0bc2",
   "metadata": {},
   "source": [
    "# fronzen set\n",
    "immutable version of set"
   ]
  },
  {
   "cell_type": "code",
   "execution_count": 29,
   "id": "fb337d83",
   "metadata": {},
   "outputs": [
    {
     "data": {
      "text/plain": [
       "{1, 2, 3, 4, 5, 'HI'}"
      ]
     },
     "execution_count": 29,
     "metadata": {},
     "output_type": "execute_result"
    }
   ],
   "source": [
    "a={1,2,3,4,5}\n",
    "a.add(\"HI\")\n",
    "a"
   ]
  },
  {
   "cell_type": "code",
   "execution_count": 31,
   "id": "8511a1a6",
   "metadata": {},
   "outputs": [],
   "source": [
    "a=frozenset(a)"
   ]
  },
  {
   "cell_type": "code",
   "execution_count": 32,
   "id": "7bbb3209",
   "metadata": {},
   "outputs": [
    {
     "data": {
      "text/plain": [
       "frozenset"
      ]
     },
     "execution_count": 32,
     "metadata": {},
     "output_type": "execute_result"
    }
   ],
   "source": [
    "type(a)"
   ]
  },
  {
   "cell_type": "code",
   "execution_count": 33,
   "id": "1afec682",
   "metadata": {},
   "outputs": [
    {
     "ename": "AttributeError",
     "evalue": "'frozenset' object has no attribute 'add'",
     "output_type": "error",
     "traceback": [
      "\u001b[1;31m---------------------------------------------------------------------------\u001b[0m",
      "\u001b[1;31mAttributeError\u001b[0m                            Traceback (most recent call last)",
      "Input \u001b[1;32mIn [33]\u001b[0m, in \u001b[0;36m<cell line: 1>\u001b[1;34m()\u001b[0m\n\u001b[1;32m----> 1\u001b[0m \u001b[43ma\u001b[49m\u001b[38;5;241;43m.\u001b[39;49m\u001b[43madd\u001b[49m(\u001b[38;5;124m\"\u001b[39m\u001b[38;5;124mHeloo\u001b[39m\u001b[38;5;124m\"\u001b[39m)\n\u001b[0;32m      2\u001b[0m a\n",
      "\u001b[1;31mAttributeError\u001b[0m: 'frozenset' object has no attribute 'add'"
     ]
    }
   ],
   "source": [
    "a.add(\"Heloo\")\n",
    "a"
   ]
  },
  {
   "cell_type": "code",
   "execution_count": null,
   "id": "951bc89f",
   "metadata": {},
   "outputs": [],
   "source": []
  },
  {
   "cell_type": "code",
   "execution_count": null,
   "id": "9c8c40fb",
   "metadata": {},
   "outputs": [],
   "source": []
  },
  {
   "cell_type": "markdown",
   "id": "3147274d",
   "metadata": {},
   "source": [
    "# Python dictionary\n",
    "Mapping data type"
   ]
  },
  {
   "cell_type": "code",
   "execution_count": 38,
   "id": "1ef7d3de",
   "metadata": {},
   "outputs": [],
   "source": [
    "d = {\n",
    "    \"a\":\"article\", \"an\":\"article for word starting vowel\",\"the\":\"article used for noun\"\n",
    "}"
   ]
  },
  {
   "cell_type": "code",
   "execution_count": 39,
   "id": "acb4ee9b",
   "metadata": {},
   "outputs": [
    {
     "data": {
      "text/plain": [
       "dict"
      ]
     },
     "execution_count": 39,
     "metadata": {},
     "output_type": "execute_result"
    }
   ],
   "source": [
    "type(d)"
   ]
  },
  {
   "cell_type": "code",
   "execution_count": null,
   "id": "1464747f",
   "metadata": {},
   "outputs": [],
   "source": []
  },
  {
   "cell_type": "code",
   "execution_count": 43,
   "id": "823f0c3b",
   "metadata": {},
   "outputs": [],
   "source": [
    "personal_detail={\n",
    "    \"name\":\"nishan luitel\",\n",
    "    \"age\":\"45\",\n",
    "    \"teaches\":\"broadway\",\n",
    "    \"course\":[\"ds\",\"ml\",\"deep learning\"]\n",
    "}"
   ]
  },
  {
   "cell_type": "code",
   "execution_count": 42,
   "id": "d8e3659e",
   "metadata": {},
   "outputs": [
    {
     "data": {
      "text/plain": [
       "dict"
      ]
     },
     "execution_count": 42,
     "metadata": {},
     "output_type": "execute_result"
    }
   ],
   "source": [
    "type(personal_detail)"
   ]
  },
  {
   "cell_type": "code",
   "execution_count": 45,
   "id": "44757a3f",
   "metadata": {},
   "outputs": [
    {
     "data": {
      "text/plain": [
       "{'name': 'nishan luitel',\n",
       " 'age': '45',\n",
       " 'teaches': 'broadway',\n",
       " 'course': ['ds', 'ml', 'deep learning']}"
      ]
     },
     "execution_count": 45,
     "metadata": {},
     "output_type": "execute_result"
    }
   ],
   "source": [
    "personal_detail"
   ]
  },
  {
   "cell_type": "code",
   "execution_count": 46,
   "id": "f64e0c07",
   "metadata": {},
   "outputs": [
    {
     "data": {
      "text/plain": [
       "'nishan luitel'"
      ]
     },
     "execution_count": 46,
     "metadata": {},
     "output_type": "execute_result"
    }
   ],
   "source": [
    "personal_detail['name']"
   ]
  },
  {
   "cell_type": "code",
   "execution_count": 51,
   "id": "56cae8bd",
   "metadata": {},
   "outputs": [
    {
     "data": {
      "text/plain": [
       "['ds', 'ml', 'deep learning']"
      ]
     },
     "execution_count": 51,
     "metadata": {},
     "output_type": "execute_result"
    }
   ],
   "source": [
    "personal_detail[\"course\"]"
   ]
  },
  {
   "cell_type": "code",
   "execution_count": 53,
   "id": "056a4b46",
   "metadata": {},
   "outputs": [
    {
     "data": {
      "text/plain": [
       "['ds', 'ml', 'deep learning']"
      ]
     },
     "execution_count": 53,
     "metadata": {},
     "output_type": "execute_result"
    }
   ],
   "source": [
    "personal_detail . get(\"course\")"
   ]
  },
  {
   "cell_type": "code",
   "execution_count": 55,
   "id": "805ee5d7",
   "metadata": {},
   "outputs": [
    {
     "data": {
      "text/plain": [
       "['name', 'age', 'teaches', 'course']"
      ]
     },
     "execution_count": 55,
     "metadata": {},
     "output_type": "execute_result"
    }
   ],
   "source": [
    "list(personal_detail.keys())"
   ]
  },
  {
   "cell_type": "code",
   "execution_count": 56,
   "id": "b41ca2b7",
   "metadata": {},
   "outputs": [
    {
     "data": {
      "text/plain": [
       "dict_values(['nishan luitel', '45', 'broadway', ['ds', 'ml', 'deep learning']])"
      ]
     },
     "execution_count": 56,
     "metadata": {},
     "output_type": "execute_result"
    }
   ],
   "source": [
    "personal_detail.values()"
   ]
  },
  {
   "cell_type": "code",
   "execution_count": 57,
   "id": "d563f49c",
   "metadata": {},
   "outputs": [],
   "source": [
    "personal_detail[\"gender\"]=\"male\""
   ]
  },
  {
   "cell_type": "code",
   "execution_count": 58,
   "id": "b981f14b",
   "metadata": {},
   "outputs": [
    {
     "data": {
      "text/plain": [
       "{'name': 'nishan luitel',\n",
       " 'age': '45',\n",
       " 'teaches': 'broadway',\n",
       " 'course': ['ds', 'ml', 'deep learning'],\n",
       " 'gender': 'male'}"
      ]
     },
     "execution_count": 58,
     "metadata": {},
     "output_type": "execute_result"
    }
   ],
   "source": [
    "personal_detail"
   ]
  },
  {
   "cell_type": "code",
   "execution_count": 60,
   "id": "d2ece6df",
   "metadata": {},
   "outputs": [
    {
     "data": {
      "text/plain": [
       "{'name': 'nishan luitel',\n",
       " 'age': '45',\n",
       " 'teaches': 'broadway',\n",
       " 'course': ['ds', 'ml', 'deep learning'],\n",
       " 'gender': 'male',\n",
       " 'time': '8:00'}"
      ]
     },
     "execution_count": 60,
     "metadata": {},
     "output_type": "execute_result"
    }
   ],
   "source": [
    "personal_detail.update({'time' : '8:00'})\n",
    "personal_detail"
   ]
  },
  {
   "cell_type": "code",
   "execution_count": 61,
   "id": "0c2b6209",
   "metadata": {},
   "outputs": [
    {
     "data": {
      "text/plain": [
       "{'name': 'Nishan luitel',\n",
       " 'age': '45',\n",
       " 'teaches': 'broadway',\n",
       " 'course': ['ds', 'ml', 'deep learning'],\n",
       " 'gender': 'male',\n",
       " 'time': '8:00'}"
      ]
     },
     "execution_count": 61,
     "metadata": {},
     "output_type": "execute_result"
    }
   ],
   "source": [
    "personal_detail.update({'name' : 'Nishan luitel'})\n",
    "personal_detail"
   ]
  },
  {
   "cell_type": "code",
   "execution_count": 62,
   "id": "cb613881",
   "metadata": {},
   "outputs": [
    {
     "data": {
      "text/plain": [
       "'45'"
      ]
     },
     "execution_count": 62,
     "metadata": {},
     "output_type": "execute_result"
    }
   ],
   "source": [
    "personal_detail.pop(\"age\")"
   ]
  },
  {
   "cell_type": "code",
   "execution_count": 63,
   "id": "35e9e22b",
   "metadata": {},
   "outputs": [
    {
     "data": {
      "text/plain": [
       "{'name': 'Nishan luitel',\n",
       " 'teaches': 'broadway',\n",
       " 'course': ['ds', 'ml', 'deep learning'],\n",
       " 'gender': 'male',\n",
       " 'time': '8:00'}"
      ]
     },
     "execution_count": 63,
     "metadata": {},
     "output_type": "execute_result"
    }
   ],
   "source": [
    "personal_detail"
   ]
  },
  {
   "cell_type": "code",
   "execution_count": null,
   "id": "fc2c74d6",
   "metadata": {},
   "outputs": [],
   "source": []
  },
  {
   "cell_type": "markdown",
   "id": "84f08114",
   "metadata": {},
   "source": [
    "# LOOP in dictionary"
   ]
  },
  {
   "cell_type": "code",
   "execution_count": null,
   "id": "d46dd61b",
   "metadata": {},
   "outputs": [],
   "source": []
  },
  {
   "cell_type": "code",
   "execution_count": 64,
   "id": "4c8d0c02",
   "metadata": {},
   "outputs": [
    {
     "name": "stdout",
     "output_type": "stream",
     "text": [
      "name\n",
      "teaches\n",
      "course\n",
      "gender\n",
      "time\n"
     ]
    }
   ],
   "source": [
    "for item in personal_detail:\n",
    "    print(item)"
   ]
  },
  {
   "cell_type": "code",
   "execution_count": 65,
   "id": "9be819ca",
   "metadata": {},
   "outputs": [
    {
     "data": {
      "text/plain": [
       "dict_items([('name', 'Nishan luitel'), ('teaches', 'broadway'), ('course', ['ds', 'ml', 'deep learning']), ('gender', 'male'), ('time', '8:00')])"
      ]
     },
     "execution_count": 65,
     "metadata": {},
     "output_type": "execute_result"
    }
   ],
   "source": [
    "personal_detail.items()"
   ]
  },
  {
   "cell_type": "code",
   "execution_count": 66,
   "id": "7579617b",
   "metadata": {},
   "outputs": [
    {
     "data": {
      "text/plain": [
       "5"
      ]
     },
     "execution_count": 66,
     "metadata": {},
     "output_type": "execute_result"
    }
   ],
   "source": [
    "len(personal_detail)"
   ]
  },
  {
   "cell_type": "code",
   "execution_count": 73,
   "id": "c8e06051",
   "metadata": {},
   "outputs": [
    {
     "name": "stdout",
     "output_type": "stream",
     "text": [
      "key=name and value=Nishan luitel\n",
      "key=teaches and value=broadway\n",
      "key=course and value=['ds', 'ml', 'deep learning']\n",
      "key=gender and value=male\n",
      "key=time and value=8:00\n"
     ]
    }
   ],
   "source": [
    "for key,val in personal_detail.items():                                            \n",
    "    print(\"key={} and value={}\".format(key,val))"
   ]
  },
  {
   "cell_type": "markdown",
   "id": "71023770",
   "metadata": {},
   "source": [
    " ```python\n",
    "for key,val in dict_name.items():\n",
    "    print(key) #print keys in dict\n",
    "    print(val) #print keys value\n",
    "```"
   ]
  },
  {
   "cell_type": "code",
   "execution_count": null,
   "id": "37524e16",
   "metadata": {},
   "outputs": [],
   "source": []
  },
  {
   "cell_type": "code",
   "execution_count": null,
   "id": "89ec22f4",
   "metadata": {},
   "outputs": [],
   "source": []
  },
  {
   "cell_type": "code",
   "execution_count": 77,
   "id": "9a6f41f1",
   "metadata": {},
   "outputs": [],
   "source": [
    "det = {\n",
    "    \"name\":{'firstname':\"nishan\",'lastname':'luitel'}\n",
    "}"
   ]
  },
  {
   "cell_type": "code",
   "execution_count": 78,
   "id": "bf0bc588",
   "metadata": {},
   "outputs": [
    {
     "data": {
      "text/plain": [
       "{'name': {'firstname': 'nishan', 'lastname': 'luitel'}}"
      ]
     },
     "execution_count": 78,
     "metadata": {},
     "output_type": "execute_result"
    }
   ],
   "source": [
    "det"
   ]
  },
  {
   "cell_type": "code",
   "execution_count": 79,
   "id": "bd087c61",
   "metadata": {},
   "outputs": [
    {
     "data": {
      "text/plain": [
       "dict"
      ]
     },
     "execution_count": 79,
     "metadata": {},
     "output_type": "execute_result"
    }
   ],
   "source": [
    "type(det)"
   ]
  },
  {
   "cell_type": "code",
   "execution_count": 80,
   "id": "72931f9c",
   "metadata": {},
   "outputs": [
    {
     "data": {
      "text/plain": [
       "'nishan'"
      ]
     },
     "execution_count": 80,
     "metadata": {},
     "output_type": "execute_result"
    }
   ],
   "source": [
    "det[\"name\"][\"firstname\"]"
   ]
  },
  {
   "cell_type": "code",
   "execution_count": 81,
   "id": "3bd5ea34",
   "metadata": {},
   "outputs": [
    {
     "data": {
      "text/plain": [
       "str"
      ]
     },
     "execution_count": 81,
     "metadata": {},
     "output_type": "execute_result"
    }
   ],
   "source": [
    "type(det[\"name\"][\"firstname\"])"
   ]
  },
  {
   "cell_type": "code",
   "execution_count": null,
   "id": "5840d133",
   "metadata": {},
   "outputs": [],
   "source": []
  }
 ],
 "metadata": {
  "kernelspec": {
   "display_name": "Python 3 (ipykernel)",
   "language": "python",
   "name": "python3"
  },
  "language_info": {
   "codemirror_mode": {
    "name": "ipython",
    "version": 3
   },
   "file_extension": ".py",
   "mimetype": "text/x-python",
   "name": "python",
   "nbconvert_exporter": "python",
   "pygments_lexer": "ipython3",
   "version": "3.8.10"
  }
 },
 "nbformat": 4,
 "nbformat_minor": 5
}
