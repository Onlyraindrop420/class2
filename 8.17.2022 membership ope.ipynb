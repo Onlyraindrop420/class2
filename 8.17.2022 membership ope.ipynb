{
 "cells": [
  {
   "cell_type": "markdown",
   "id": "7223a3e5",
   "metadata": {},
   "source": [
    "# membership operator"
   ]
  },
  {
   "cell_type": "code",
   "execution_count": null,
   "id": "0a70db01",
   "metadata": {},
   "outputs": [],
   "source": [
    "class2= ['pratik', 'abishek', 'punam','kusum', 'Abishek', 'nissan', 'swapnil']\n",
    "\"nissan\" in class2"
   ]
  },
  {
   "cell_type": "code",
   "execution_count": null,
   "id": "b38b2398",
   "metadata": {},
   "outputs": [],
   "source": [
    "\"nishan\" in class2"
   ]
  },
  {
   "cell_type": "code",
   "execution_count": null,
   "id": "2d5ec421",
   "metadata": {},
   "outputs": [],
   "source": [
    "\"nishan\" not in class2"
   ]
  },
  {
   "cell_type": "code",
   "execution_count": null,
   "id": "b8028ae4",
   "metadata": {},
   "outputs": [],
   "source": [
    "name = \"ni$han\"\n",
    "name[1]=\"s\"                             #python strings are immutable"
   ]
  },
  {
   "cell_type": "code",
   "execution_count": null,
   "id": "4caeea33",
   "metadata": {},
   "outputs": [],
   "source": [
    "class2[5]\n"
   ]
  },
  {
   "cell_type": "code",
   "execution_count": null,
   "id": "19206264",
   "metadata": {},
   "outputs": [],
   "source": [
    "class2[5]=\"swaapnil\""
   ]
  },
  {
   "cell_type": "code",
   "execution_count": null,
   "id": "7ee2865e",
   "metadata": {},
   "outputs": [],
   "source": [
    "class2[5]     #python list are mutable"
   ]
  },
  {
   "cell_type": "code",
   "execution_count": null,
   "id": "f05a7e61",
   "metadata": {},
   "outputs": [],
   "source": []
  },
  {
   "cell_type": "code",
   "execution_count": null,
   "id": "76be15cc",
   "metadata": {},
   "outputs": [],
   "source": [
    "class2= ['pratik', 'abishek', 'punam','kusum', 'Abishek', 'nissan', 'swapnil']"
   ]
  },
  {
   "cell_type": "code",
   "execution_count": null,
   "id": "086e02a0",
   "metadata": {},
   "outputs": [],
   "source": [
    "class2[:2]=[\"Pratik\", \"Abishekkk\"]\n",
    "class2"
   ]
  },
  {
   "cell_type": "code",
   "execution_count": null,
   "id": "7fe91885",
   "metadata": {},
   "outputs": [],
   "source": []
  },
  {
   "cell_type": "code",
   "execution_count": null,
   "id": "7da403f4",
   "metadata": {},
   "outputs": [],
   "source": []
  },
  {
   "cell_type": "markdown",
   "id": "6ab6c4ae",
   "metadata": {},
   "source": [
    "# python list method\n",
    "adding values in list"
   ]
  },
  {
   "cell_type": "markdown",
   "id": "5d4d8b98",
   "metadata": {},
   "source": [
    "*insert"
   ]
  },
  {
   "cell_type": "code",
   "execution_count": null,
   "id": "b456690d",
   "metadata": {},
   "outputs": [],
   "source": [
    "number = [44,22,11,566]\n",
    "print(number)\n",
    "number.insert(1,\"class2\")\n",
    "print(number)\n"
   ]
  },
  {
   "cell_type": "code",
   "execution_count": null,
   "id": "6e60fa6d",
   "metadata": {},
   "outputs": [],
   "source": []
  },
  {
   "cell_type": "markdown",
   "id": "1dea8822",
   "metadata": {},
   "source": [
    "append() method in python list"
   ]
  },
  {
   "cell_type": "code",
   "execution_count": null,
   "id": "461e58b2",
   "metadata": {},
   "outputs": [],
   "source": [
    "cars=['audi', 'bmw', 'mercedes']\n",
    "cars.append('Tesla')\n",
    "cars"
   ]
  },
  {
   "cell_type": "code",
   "execution_count": null,
   "id": "2c902b18",
   "metadata": {},
   "outputs": [],
   "source": []
  },
  {
   "cell_type": "code",
   "execution_count": null,
   "id": "372838fe",
   "metadata": {},
   "outputs": [],
   "source": [
    "prime=[1,2,3,5,7,11]\n",
    "for item in prime:\n",
    "    square = item**2\n",
    "square"
   ]
  },
  {
   "cell_type": "code",
   "execution_count": null,
   "id": "e7b29b1d",
   "metadata": {},
   "outputs": [],
   "source": []
  },
  {
   "cell_type": "code",
   "execution_count": null,
   "id": "0623db7f",
   "metadata": {},
   "outputs": [],
   "source": [
    "prime=[1,2,3,5,7,11] \n",
    "number_squares=[]   #creates empty list\n",
    "number_squares= list() #creates empty list\n",
    "for item in prime:\n",
    "    square = item**2\n",
    "    number_squares.append(square)\n",
    "number_squares\n"
   ]
  },
  {
   "cell_type": "code",
   "execution_count": null,
   "id": "98b32ac8",
   "metadata": {},
   "outputs": [],
   "source": [
    "prime=[1,2,3,5,7,11] \n",
    "number_squares=[]   #creates empty list\n",
    "number_squares= list() #creates empty list\n",
    "for item in prime:\n",
    "    print(number_squares)\n",
    "    square = item**2\n",
    "    number_squares.append(square)\n",
    "number_squares"
   ]
  },
  {
   "cell_type": "code",
   "execution_count": null,
   "id": "6544fe5a",
   "metadata": {},
   "outputs": [],
   "source": []
  },
  {
   "cell_type": "code",
   "execution_count": null,
   "id": "65f5af49",
   "metadata": {},
   "outputs": [],
   "source": [
    "list1 =['marker', 'board', 'flex']\n",
    "list2 =['duster', 'pen', 'paper']\n",
    "list1.extend(list2)\n",
    "print(list1)\n",
    "print(list2)"
   ]
  },
  {
   "cell_type": "code",
   "execution_count": null,
   "id": "9eebbcc1",
   "metadata": {},
   "outputs": [],
   "source": [
    "list1 =['marker', 'board', 'flex']\n",
    "list2 =['duster', 'pen', 'paper']\n",
    "list3 =list1+list2\n",
    "list3"
   ]
  },
  {
   "cell_type": "code",
   "execution_count": null,
   "id": "6406a1e1",
   "metadata": {},
   "outputs": [],
   "source": []
  },
  {
   "cell_type": "code",
   "execution_count": null,
   "id": "47332025",
   "metadata": {},
   "outputs": [],
   "source": []
  },
  {
   "cell_type": "code",
   "execution_count": null,
   "id": "5c06ee78",
   "metadata": {},
   "outputs": [],
   "source": [
    "list3.remove(\"marker\")\n",
    "list3"
   ]
  },
  {
   "cell_type": "code",
   "execution_count": null,
   "id": "5f79387f",
   "metadata": {},
   "outputs": [],
   "source": []
  },
  {
   "cell_type": "code",
   "execution_count": null,
   "id": "32e5e01b",
   "metadata": {},
   "outputs": [],
   "source": [
    "cars=['audi', 'bmw', 'mercedes','audi']"
   ]
  },
  {
   "cell_type": "code",
   "execution_count": null,
   "id": "01729642",
   "metadata": {},
   "outputs": [],
   "source": [
    "cars.remove('audi')\n",
    "cars"
   ]
  },
  {
   "cell_type": "code",
   "execution_count": null,
   "id": "124e27eb",
   "metadata": {},
   "outputs": [],
   "source": []
  },
  {
   "cell_type": "code",
   "execution_count": null,
   "id": "738f8e84",
   "metadata": {},
   "outputs": [],
   "source": []
  },
  {
   "cell_type": "markdown",
   "id": "c26758ea",
   "metadata": {},
   "source": [
    "# Python list as stack\n",
    "LIFO Last in first out\n",
    "item appended at last\n"
   ]
  },
  {
   "cell_type": "code",
   "execution_count": null,
   "id": "1e6de884",
   "metadata": {},
   "outputs": [],
   "source": [
    "cars=['audi', 'bmw', 'mercedes','audi','bmw']\n"
   ]
  },
  {
   "cell_type": "code",
   "execution_count": null,
   "id": "2bfef471",
   "metadata": {},
   "outputs": [],
   "source": [
    "cars.pop()"
   ]
  },
  {
   "cell_type": "code",
   "execution_count": null,
   "id": "0c3f7b23",
   "metadata": {},
   "outputs": [],
   "source": [
    "cars"
   ]
  },
  {
   "cell_type": "code",
   "execution_count": null,
   "id": "18b9780e",
   "metadata": {},
   "outputs": [],
   "source": []
  },
  {
   "cell_type": "code",
   "execution_count": null,
   "id": "26ced782",
   "metadata": {},
   "outputs": [],
   "source": []
  },
  {
   "cell_type": "markdown",
   "id": "702a241f",
   "metadata": {},
   "source": [
    "# pop using index"
   ]
  },
  {
   "cell_type": "code",
   "execution_count": null,
   "id": "c208ccc8",
   "metadata": {},
   "outputs": [],
   "source": [
    "cars=['audi', 'bmw', 'mercedes','audi','bmw']"
   ]
  },
  {
   "cell_type": "code",
   "execution_count": null,
   "id": "79338274",
   "metadata": {},
   "outputs": [],
   "source": [
    "cars.pop(1)"
   ]
  },
  {
   "cell_type": "code",
   "execution_count": null,
   "id": "193044a2",
   "metadata": {},
   "outputs": [],
   "source": [
    "cars"
   ]
  },
  {
   "cell_type": "code",
   "execution_count": null,
   "id": "31f16385",
   "metadata": {},
   "outputs": [],
   "source": []
  },
  {
   "cell_type": "code",
   "execution_count": null,
   "id": "2b32bdc5",
   "metadata": {},
   "outputs": [],
   "source": []
  },
  {
   "cell_type": "code",
   "execution_count": null,
   "id": "f2b1607e",
   "metadata": {},
   "outputs": [],
   "source": []
  },
  {
   "cell_type": "markdown",
   "id": "d082d13f",
   "metadata": {},
   "source": [
    "# sorting in python"
   ]
  },
  {
   "cell_type": "code",
   "execution_count": 1,
   "id": "6c3c791c",
   "metadata": {},
   "outputs": [
    {
     "data": {
      "text/plain": [
       "['audi', 'audi', 'bmw', 'bmw', 'mercedes']"
      ]
     },
     "execution_count": 1,
     "metadata": {},
     "output_type": "execute_result"
    }
   ],
   "source": [
    "cars=['audi', 'bmw', 'mercedes','audi','bmw']\n",
    "cars.sort()\n",
    "cars"
   ]
  },
  {
   "cell_type": "code",
   "execution_count": 3,
   "id": "86868f79",
   "metadata": {},
   "outputs": [
    {
     "data": {
      "text/plain": [
       "[-7, -1, 0, 22, 33]"
      ]
     },
     "execution_count": 3,
     "metadata": {},
     "output_type": "execute_result"
    }
   ],
   "source": [
    "nums=[22,-1,0,33,-7]\n",
    "nums.sort()\n",
    "nums"
   ]
  },
  {
   "cell_type": "code",
   "execution_count": 5,
   "id": "d19009d6",
   "metadata": {},
   "outputs": [
    {
     "data": {
      "text/plain": [
       "[33, 22, 0, -1, -7]"
      ]
     },
     "execution_count": 5,
     "metadata": {},
     "output_type": "execute_result"
    }
   ],
   "source": [
    "nums.sort(reverse = True)   #desending order\n",
    "nums"
   ]
  },
  {
   "cell_type": "code",
   "execution_count": null,
   "id": "8d09e3a1",
   "metadata": {},
   "outputs": [],
   "source": []
  },
  {
   "cell_type": "code",
   "execution_count": null,
   "id": "60453ce5",
   "metadata": {},
   "outputs": [],
   "source": []
  },
  {
   "cell_type": "code",
   "execution_count": null,
   "id": "7042f564",
   "metadata": {},
   "outputs": [],
   "source": []
  },
  {
   "cell_type": "code",
   "execution_count": null,
   "id": "569ae1a9",
   "metadata": {},
   "outputs": [],
   "source": []
  }
 ],
 "metadata": {
  "kernelspec": {
   "display_name": "Python 3 (ipykernel)",
   "language": "python",
   "name": "python3"
  },
  "language_info": {
   "codemirror_mode": {
    "name": "ipython",
    "version": 3
   },
   "file_extension": ".py",
   "mimetype": "text/x-python",
   "name": "python",
   "nbconvert_exporter": "python",
   "pygments_lexer": "ipython3",
   "version": "3.8.10"
  }
 },
 "nbformat": 4,
 "nbformat_minor": 5
}
