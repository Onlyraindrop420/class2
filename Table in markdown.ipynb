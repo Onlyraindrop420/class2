{
 "cells": [
  {
   "cell_type": "markdown",
   "id": "5ddd3bab",
   "metadata": {},
   "source": [
    "|name   | email |\n",
    "|---   |---    |\n",
    "|Nishan  | Luitel@gmail.com  |\n",
    "|x | x@ yahoo.com   |\n",
    "|8999   | y@hotmail.com   |"
   ]
  },
  {
   "cell_type": "code",
   "execution_count": 1,
   "id": "81d9e510",
   "metadata": {},
   "outputs": [],
   "source": [
    "# markdown bare youtube search!!!!"
   ]
  },
  {
   "cell_type": "code",
   "execution_count": null,
   "id": "e0b62fa6",
   "metadata": {},
   "outputs": [],
   "source": []
  }
 ],
 "metadata": {
  "kernelspec": {
   "display_name": "Python 3 (ipykernel)",
   "language": "python",
   "name": "python3"
  },
  "language_info": {
   "codemirror_mode": {
    "name": "ipython",
    "version": 3
   },
   "file_extension": ".py",
   "mimetype": "text/x-python",
   "name": "python",
   "nbconvert_exporter": "python",
   "pygments_lexer": "ipython3",
   "version": "3.8.10"
  }
 },
 "nbformat": 4,
 "nbformat_minor": 5
}
