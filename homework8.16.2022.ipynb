{
 "cells": [
  {
   "cell_type": "code",
   "execution_count": 9,
   "id": "4a8bcb12",
   "metadata": {},
   "outputs": [
    {
     "name": "stdout",
     "output_type": "stream",
     "text": [
      "['i', 'like', 'orange', 'apple', 'banana', 'and', 'kiwi']\n",
      "orange\n",
      "apple\n",
      "banana\n",
      "kiwi\n"
     ]
    }
   ],
   "source": [
    "txt = \"I like Orange Apple Banana and Kiwi\"\n",
    "y= txt.lower()\n",
    "words = y.split(\" \")\n",
    "print (words)\n",
    "totalwords=len(words)\n",
    "start=0\n",
    "end=totalwords\n",
    "step=1\n",
    "for index in range(start,end,step):\n",
    "    letter = words[index]\n",
    "    if letter == \"orange\" or letter == \"apple\" or letter== \"banana\"  or letter==\"kiwi\":\n",
    "        print (letter)"
   ]
  },
  {
   "cell_type": "code",
   "execution_count": null,
   "id": "ae17a924",
   "metadata": {},
   "outputs": [],
   "source": []
  },
  {
   "cell_type": "code",
   "execution_count": 10,
   "id": "9943d851",
   "metadata": {},
   "outputs": [
    {
     "name": "stdout",
     "output_type": "stream",
     "text": [
      "nepalindiachina\n",
      "nepal\n",
      "indiachina\n",
      "indiachinanepal\n"
     ]
    }
   ],
   "source": [
    "string1=\"NEPALINDIACHINA\"\n",
    "string2=\"indiachinanepal\"\n",
    "string3= string1.lower()\n",
    "print (string3)\n",
    "a=string3[0:5]\n",
    "b=string3[5:]\n",
    "print(a)\n",
    "print(b)\n",
    "c=b+a\n",
    "if c==string2:\n",
    "    print(c)\n",
    "\n",
    "\n"
   ]
  },
  {
   "cell_type": "code",
   "execution_count": 1,
   "id": "24f8e3af",
   "metadata": {},
   "outputs": [],
   "source": [
    "# do this project by replace function"
   ]
  },
  {
   "cell_type": "code",
   "execution_count": null,
   "id": "05dc146b",
   "metadata": {},
   "outputs": [],
   "source": []
  }
 ],
 "metadata": {
  "kernelspec": {
   "display_name": "Python 3 (ipykernel)",
   "language": "python",
   "name": "python3"
  },
  "language_info": {
   "codemirror_mode": {
    "name": "ipython",
    "version": 3
   },
   "file_extension": ".py",
   "mimetype": "text/x-python",
   "name": "python",
   "nbconvert_exporter": "python",
   "pygments_lexer": "ipython3",
   "version": "3.8.10"
  }
 },
 "nbformat": 4,
 "nbformat_minor": 5
}
