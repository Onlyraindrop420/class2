{
 "cells": [
  {
   "cell_type": "markdown",
   "id": "c566d87c",
   "metadata": {},
   "source": [
    "# WAP to check if userinput is 0,pos,neg- Nesting conditionals\n"
   ]
  },
  {
   "cell_type": "code",
   "execution_count": 3,
   "id": "57456049",
   "metadata": {},
   "outputs": [
    {
     "ename": "SyntaxError",
     "evalue": "invalid syntax (3959289259.py, line 2)",
     "output_type": "error",
     "traceback": [
      "\u001b[1;36m  Input \u001b[1;32mIn [3]\u001b[1;36m\u001b[0m\n\u001b[1;33m    if (a < 0):\u001b[0m\n\u001b[1;37m              ^\u001b[0m\n\u001b[1;31mSyntaxError\u001b[0m\u001b[1;31m:\u001b[0m invalid syntax\n"
     ]
    }
   ],
   "source": [
    "a = int( input(\"Enter a number:\")\n",
    "if (a < 0):\n",
    "      print(\"the number {} is negative\".format(a))\n",
    "else:\n",
    "      if a == 0:\n",
    "          print(\"the number {} is zero\".format(a))\n",
    "      else:\n",
    "          print(\"the number {} is positive\".format(a))\n",
    "          \n",
    "      \n",
    "      \n",
    "      "
   ]
  },
  {
   "cell_type": "code",
   "execution_count": null,
   "id": "8ff9f760",
   "metadata": {},
   "outputs": [],
   "source": []
  }
 ],
 "metadata": {
  "kernelspec": {
   "display_name": "Python 3 (ipykernel)",
   "language": "python",
   "name": "python3"
  },
  "language_info": {
   "codemirror_mode": {
    "name": "ipython",
    "version": 3
   },
   "file_extension": ".py",
   "mimetype": "text/x-python",
   "name": "python",
   "nbconvert_exporter": "python",
   "pygments_lexer": "ipython3",
   "version": "3.8.10"
  }
 },
 "nbformat": 4,
 "nbformat_minor": 5
}
