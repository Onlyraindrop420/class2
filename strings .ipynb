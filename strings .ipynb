{
 "cells": [
  {
   "cell_type": "code",
   "execution_count": 1,
   "id": "49a3e7d2",
   "metadata": {},
   "outputs": [
    {
     "data": {
      "text/plain": [
       "True"
      ]
     },
     "execution_count": 1,
     "metadata": {},
     "output_type": "execute_result"
    }
   ],
   "source": [
    "txt1=\"hi\"\n",
    "txt2='hi'\n",
    "txt1==txt2"
   ]
  },
  {
   "cell_type": "code",
   "execution_count": 2,
   "id": "06780d73",
   "metadata": {},
   "outputs": [],
   "source": [
    "assert txt1==txt2"
   ]
  },
  {
   "cell_type": "code",
   "execution_count": 3,
   "id": "9ba55624",
   "metadata": {},
   "outputs": [
    {
     "data": {
      "text/plain": [
       "False"
      ]
     },
     "execution_count": 3,
     "metadata": {},
     "output_type": "execute_result"
    }
   ],
   "source": [
    "txt1=\"hi\"\n",
    "txt2='hi!'\n",
    "txt1==txt2"
   ]
  },
  {
   "cell_type": "code",
   "execution_count": 4,
   "id": "1379f135",
   "metadata": {},
   "outputs": [
    {
     "ename": "AssertionError",
     "evalue": "",
     "output_type": "error",
     "traceback": [
      "\u001b[1;31m---------------------------------------------------------------------------\u001b[0m",
      "\u001b[1;31mAssertionError\u001b[0m                            Traceback (most recent call last)",
      "Input \u001b[1;32mIn [4]\u001b[0m, in \u001b[0;36m<cell line: 1>\u001b[1;34m()\u001b[0m\n\u001b[1;32m----> 1\u001b[0m \u001b[38;5;28;01massert\u001b[39;00m txt1\u001b[38;5;241m==\u001b[39mtxt2\n",
      "\u001b[1;31mAssertionError\u001b[0m: "
     ]
    }
   ],
   "source": [
    "assert txt1==txt2"
   ]
  },
  {
   "cell_type": "code",
   "execution_count": null,
   "id": "0cc3c5ab",
   "metadata": {},
   "outputs": [],
   "source": [
    "\n"
   ]
  },
  {
   "cell_type": "code",
   "execution_count": null,
   "id": "a195f2b8",
   "metadata": {},
   "outputs": [],
   "source": []
  },
  {
   "cell_type": "code",
   "execution_count": 5,
   "id": "1d9e5528",
   "metadata": {},
   "outputs": [
    {
     "ename": "SyntaxError",
     "evalue": "EOL while scanning string literal (2410406596.py, line 1)",
     "output_type": "error",
     "traceback": [
      "\u001b[1;36m  Input \u001b[1;32mIn [5]\u001b[1;36m\u001b[0m\n\u001b[1;33m    txt \"hi\u001b[0m\n\u001b[1;37m           ^\u001b[0m\n\u001b[1;31mSyntaxError\u001b[0m\u001b[1;31m:\u001b[0m EOL while scanning string literal\n"
     ]
    }
   ],
   "source": [
    "txt= \"hi\n",
    "my name is nishan\""
   ]
  },
  {
   "cell_type": "code",
   "execution_count": 8,
   "id": "446e2647",
   "metadata": {},
   "outputs": [],
   "source": [
    "txt= \"\"\"hi my name is \n",
    "nishan luitel\"\"\""
   ]
  },
  {
   "cell_type": "code",
   "execution_count": 9,
   "id": "553a39ce",
   "metadata": {},
   "outputs": [
    {
     "data": {
      "text/plain": [
       "'hi my name is \\nnishan luitel'"
      ]
     },
     "execution_count": 9,
     "metadata": {},
     "output_type": "execute_result"
    }
   ],
   "source": [
    "txt"
   ]
  },
  {
   "cell_type": "code",
   "execution_count": 10,
   "id": "b7087b46",
   "metadata": {},
   "outputs": [],
   "source": [
    "# \\n is new line"
   ]
  },
  {
   "cell_type": "code",
   "execution_count": null,
   "id": "c60741d7",
   "metadata": {},
   "outputs": [],
   "source": []
  }
 ],
 "metadata": {
  "kernelspec": {
   "display_name": "Python 3 (ipykernel)",
   "language": "python",
   "name": "python3"
  },
  "language_info": {
   "codemirror_mode": {
    "name": "ipython",
    "version": 3
   },
   "file_extension": ".py",
   "mimetype": "text/x-python",
   "name": "python",
   "nbconvert_exporter": "python",
   "pygments_lexer": "ipython3",
   "version": "3.8.10"
  }
 },
 "nbformat": 4,
 "nbformat_minor": 5
}
