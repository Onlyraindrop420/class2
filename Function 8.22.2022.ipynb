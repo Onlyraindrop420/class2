{
 "cells": [
  {
   "cell_type": "code",
   "execution_count": null,
   "id": "e0da0a16",
   "metadata": {},
   "outputs": [],
   "source": [
    "a=20\n",
    "b=6\n",
    "c=a+b\n",
    "print(c)"
   ]
  },
  {
   "cell_type": "code",
   "execution_count": 1,
   "id": "d2ee9f49",
   "metadata": {},
   "outputs": [
    {
     "name": "stdout",
     "output_type": "stream",
     "text": [
      "26\n"
     ]
    }
   ],
   "source": [
    "def addition():\n",
    "    a=20\n",
    "    b=6\n",
    "    c=a+b\n",
    "    print(c)\n",
    "addition()"
   ]
  },
  {
   "cell_type": "code",
   "execution_count": null,
   "id": "a03cabd5",
   "metadata": {},
   "outputs": [],
   "source": [
    "def addition(a,b):\n",
    "    c=a+b  \n",
    "    print(c)\n",
    "addition()"
   ]
  },
  {
   "cell_type": "code",
   "execution_count": null,
   "id": "c4b06e46",
   "metadata": {},
   "outputs": [],
   "source": [
    "def addition(d,e):\n",
    "    c=d+e   \n",
    "    print(c)\n",
    "addition(1,3)"
   ]
  },
  {
   "cell_type": "code",
   "execution_count": 2,
   "id": "fa5b18ff",
   "metadata": {},
   "outputs": [
    {
     "data": {
      "text/plain": [
       "5"
      ]
     },
     "execution_count": 2,
     "metadata": {},
     "output_type": "execute_result"
    }
   ],
   "source": [
    "def addition(a,b):\n",
    "    c=a+b\n",
    "    return c\n",
    "total=addition(2,3)\n",
    "total"
   ]
  },
  {
   "cell_type": "code",
   "execution_count": null,
   "id": "5fab854d",
   "metadata": {},
   "outputs": [],
   "source": [
    "def multiply(a,b,c):\n",
    "    \"\"\"                                # dog strings\n",
    "        inputs:\n",
    "            a : int\n",
    "            b: int\n",
    "            c:int\n",
    "        returns\n",
    "            a*b*c\n",
    "            multiplication of a,b,c\n",
    "    \"\"\"\n",
    "    return a*b*c\n",
    "multiply(2,3,4)"
   ]
  },
  {
   "cell_type": "code",
   "execution_count": null,
   "id": "784a0580",
   "metadata": {},
   "outputs": [],
   "source": []
  },
  {
   "cell_type": "code",
   "execution_count": null,
   "id": "a05b0d14",
   "metadata": {},
   "outputs": [],
   "source": []
  },
  {
   "cell_type": "code",
   "execution_count": 7,
   "id": "6bea8e17",
   "metadata": {},
   "outputs": [],
   "source": [
    "def greet(name,greeting=\"good morning\"):\n",
    "    print((\"{} {}!!\").format(greeting,name))"
   ]
  },
  {
   "cell_type": "code",
   "execution_count": 8,
   "id": "97b34da1",
   "metadata": {},
   "outputs": [
    {
     "name": "stdout",
     "output_type": "stream",
     "text": [
      "hello how you doing! Nishan!!\n"
     ]
    }
   ],
   "source": [
    "greet(\"Nishan\",\"hello how you doing!\")"
   ]
  },
  {
   "cell_type": "code",
   "execution_count": null,
   "id": "da2bee4e",
   "metadata": {},
   "outputs": [],
   "source": []
  },
  {
   "cell_type": "code",
   "execution_count": 12,
   "id": "aaedae62",
   "metadata": {},
   "outputs": [
    {
     "name": "stdout",
     "output_type": "stream",
     "text": [
      "goodmorning nishan!!\n"
     ]
    }
   ],
   "source": [
    "def greet(name,greeting=\"good morning\"):\n",
    "    print((\"{} {}!!\").format(greeting,name))\n",
    "greet(\"nishan\",\"goodmorning\")\n"
   ]
  },
  {
   "cell_type": "code",
   "execution_count": 13,
   "id": "98181a4f",
   "metadata": {},
   "outputs": [
    {
     "name": "stdout",
     "output_type": "stream",
     "text": [
      "goodmorning sam!!\n"
     ]
    }
   ],
   "source": [
    "greet(\"sam\",\"goodmorning\")"
   ]
  },
  {
   "cell_type": "code",
   "execution_count": 14,
   "id": "098d75f6",
   "metadata": {},
   "outputs": [
    {
     "name": "stdout",
     "output_type": "stream",
     "text": [
      "good morning ram!!\n"
     ]
    }
   ],
   "source": [
    "greet(\"ram\")"
   ]
  },
  {
   "cell_type": "code",
   "execution_count": 22,
   "id": "8a12c2df",
   "metadata": {},
   "outputs": [],
   "source": [
    "def addition(a,b,c=40):\n",
    "    d=a+b+c\n",
    "    return d\n",
    "add=addition(10,20)"
   ]
  },
  {
   "cell_type": "code",
   "execution_count": 19,
   "id": "59d7fa37",
   "metadata": {},
   "outputs": [
    {
     "data": {
      "text/plain": [
       "60"
      ]
     },
     "execution_count": 19,
     "metadata": {},
     "output_type": "execute_result"
    }
   ],
   "source": [
    "addition(10,20,30)"
   ]
  },
  {
   "cell_type": "code",
   "execution_count": 21,
   "id": "c8739ac1",
   "metadata": {},
   "outputs": [
    {
     "data": {
      "text/plain": [
       "70"
      ]
     },
     "execution_count": 21,
     "metadata": {},
     "output_type": "execute_result"
    }
   ],
   "source": [
    "add"
   ]
  },
  {
   "cell_type": "code",
   "execution_count": null,
   "id": "2106bbc6",
   "metadata": {},
   "outputs": [],
   "source": []
  },
  {
   "cell_type": "markdown",
   "id": "dcbd3fe8",
   "metadata": {},
   "source": [
    "\n"
   ]
  },
  {
   "cell_type": "code",
   "execution_count": 23,
   "id": "99ca2fb5",
   "metadata": {},
   "outputs": [
    {
     "ename": "SyntaxError",
     "evalue": "non-default argument follows default argument (1277305641.py, line 1)",
     "output_type": "error",
     "traceback": [
      "\u001b[1;36m  Input \u001b[1;32mIn [23]\u001b[1;36m\u001b[0m\n\u001b[1;33m    def greet(greeting=\"good morning\",name):\u001b[0m\n\u001b[1;37m              ^\u001b[0m\n\u001b[1;31mSyntaxError\u001b[0m\u001b[1;31m:\u001b[0m non-default argument follows default argument\n"
     ]
    }
   ],
   "source": [
    "def greet(greeting=\"good morning\",name):\n",
    "    print((\"{} {}!!\").format(greeting,name))"
   ]
  },
  {
   "cell_type": "code",
   "execution_count": null,
   "id": "7615086d",
   "metadata": {},
   "outputs": [],
   "source": []
  },
  {
   "cell_type": "code",
   "execution_count": null,
   "id": "1e0899cf",
   "metadata": {},
   "outputs": [],
   "source": []
  },
  {
   "cell_type": "code",
   "execution_count": 25,
   "id": "ddaa3ab7",
   "metadata": {},
   "outputs": [
    {
     "ename": "SyntaxError",
     "evalue": "non-default argument follows default argument (3089268395.py, line 1)",
     "output_type": "error",
     "traceback": [
      "\u001b[1;36m  Input \u001b[1;32mIn [25]\u001b[1;36m\u001b[0m\n\u001b[1;33m    def add(a, b=2,c=4,d=9,y):\u001b[0m\n\u001b[1;37m            ^\u001b[0m\n\u001b[1;31mSyntaxError\u001b[0m\u001b[1;31m:\u001b[0m non-default argument follows default argument\n"
     ]
    }
   ],
   "source": [
    "def add(a, b=2,c=4,d=9,y):\n",
    "    return a+b+c+d\n",
    "add(1)"
   ]
  },
  {
   "cell_type": "code",
   "execution_count": null,
   "id": "2a6b8efb",
   "metadata": {},
   "outputs": [],
   "source": []
  },
  {
   "cell_type": "code",
   "execution_count": null,
   "id": "12ffc549",
   "metadata": {},
   "outputs": [],
   "source": []
  },
  {
   "cell_type": "code",
   "execution_count": 26,
   "id": "8eafa7ce",
   "metadata": {},
   "outputs": [],
   "source": [
    "def check_even(num):\n",
    "    if num%2==0:\n",
    "        return True\n",
    "    else:\n",
    "        return False\n",
    "        "
   ]
  },
  {
   "cell_type": "code",
   "execution_count": 27,
   "id": "84b4a7ac",
   "metadata": {},
   "outputs": [
    {
     "data": {
      "text/plain": [
       "True"
      ]
     },
     "execution_count": 27,
     "metadata": {},
     "output_type": "execute_result"
    }
   ],
   "source": [
    "check_even(2)"
   ]
  },
  {
   "cell_type": "code",
   "execution_count": null,
   "id": "6142f523",
   "metadata": {},
   "outputs": [],
   "source": []
  },
  {
   "cell_type": "code",
   "execution_count": null,
   "id": "f6fcc169",
   "metadata": {},
   "outputs": [],
   "source": []
  },
  {
   "cell_type": "code",
   "execution_count": 35,
   "id": "03b84e3c",
   "metadata": {},
   "outputs": [],
   "source": [
    "def posi(num):\n",
    "    if num>=0:\n",
    "        return \"positive string\"\n",
    "    else:\n",
    "        return \"negative string\""
   ]
  },
  {
   "cell_type": "code",
   "execution_count": 36,
   "id": "314bbed1",
   "metadata": {},
   "outputs": [
    {
     "data": {
      "text/plain": [
       "'positive string'"
      ]
     },
     "execution_count": 36,
     "metadata": {},
     "output_type": "execute_result"
    }
   ],
   "source": [
    "posi(2)\n"
   ]
  },
  {
   "cell_type": "code",
   "execution_count": 37,
   "id": "dc12885d",
   "metadata": {},
   "outputs": [
    {
     "data": {
      "text/plain": [
       "'negative string'"
      ]
     },
     "execution_count": 37,
     "metadata": {},
     "output_type": "execute_result"
    }
   ],
   "source": [
    "posi(-2)"
   ]
  },
  {
   "cell_type": "code",
   "execution_count": null,
   "id": "a06e23aa",
   "metadata": {},
   "outputs": [],
   "source": []
  },
  {
   "cell_type": "code",
   "execution_count": null,
   "id": "146471d6",
   "metadata": {},
   "outputs": [],
   "source": []
  },
  {
   "cell_type": "markdown",
   "id": "d788d3b2",
   "metadata": {},
   "source": [
    "# global and local variables\n"
   ]
  },
  {
   "cell_type": "code",
   "execution_count": 3,
   "id": "fe6664cd",
   "metadata": {},
   "outputs": [],
   "source": [
    "x=\"awesome\"\n",
    "def display():\n",
    "    x=\"wonderful\"\n",
    "    print(x)\n",
    "    "
   ]
  },
  {
   "cell_type": "code",
   "execution_count": 4,
   "id": "84abdbea",
   "metadata": {},
   "outputs": [
    {
     "name": "stdout",
     "output_type": "stream",
     "text": [
      "awesome\n"
     ]
    }
   ],
   "source": [
    "print(x)"
   ]
  },
  {
   "cell_type": "code",
   "execution_count": 5,
   "id": "8845646a",
   "metadata": {},
   "outputs": [
    {
     "name": "stdout",
     "output_type": "stream",
     "text": [
      "wonderful\n"
     ]
    }
   ],
   "source": [
    "display()"
   ]
  },
  {
   "cell_type": "code",
   "execution_count": null,
   "id": "700a6436",
   "metadata": {},
   "outputs": [],
   "source": []
  },
  {
   "cell_type": "code",
   "execution_count": null,
   "id": "1021a447",
   "metadata": {},
   "outputs": [],
   "source": []
  },
  {
   "cell_type": "code",
   "execution_count": 44,
   "id": "591dd0eb",
   "metadata": {},
   "outputs": [],
   "source": [
    "x=\"hello\"\n",
    "def display():\n",
    "    global x\n",
    "    x=\"namaste\"\n",
    "    print(x)\n",
    "    "
   ]
  },
  {
   "cell_type": "code",
   "execution_count": 45,
   "id": "0194543e",
   "metadata": {},
   "outputs": [
    {
     "data": {
      "text/plain": [
       "'hello'"
      ]
     },
     "execution_count": 45,
     "metadata": {},
     "output_type": "execute_result"
    }
   ],
   "source": [
    "x"
   ]
  },
  {
   "cell_type": "code",
   "execution_count": 46,
   "id": "8b3f0aeb",
   "metadata": {},
   "outputs": [
    {
     "name": "stdout",
     "output_type": "stream",
     "text": [
      "namaste\n"
     ]
    }
   ],
   "source": [
    "display()"
   ]
  },
  {
   "cell_type": "code",
   "execution_count": 48,
   "id": "86c08766",
   "metadata": {},
   "outputs": [
    {
     "data": {
      "text/plain": [
       "'namaste'"
      ]
     },
     "execution_count": 48,
     "metadata": {},
     "output_type": "execute_result"
    }
   ],
   "source": [
    "x"
   ]
  },
  {
   "cell_type": "code",
   "execution_count": null,
   "id": "25cb97e1",
   "metadata": {},
   "outputs": [],
   "source": []
  },
  {
   "cell_type": "code",
   "execution_count": null,
   "id": "19520ccc",
   "metadata": {},
   "outputs": [],
   "source": []
  },
  {
   "cell_type": "code",
   "execution_count": null,
   "id": "8af01734",
   "metadata": {},
   "outputs": [],
   "source": []
  }
 ],
 "metadata": {
  "kernelspec": {
   "display_name": "Python 3 (ipykernel)",
   "language": "python",
   "name": "python3"
  },
  "language_info": {
   "codemirror_mode": {
    "name": "ipython",
    "version": 3
   },
   "file_extension": ".py",
   "mimetype": "text/x-python",
   "name": "python",
   "nbconvert_exporter": "python",
   "pygments_lexer": "ipython3",
   "version": "3.8.10"
  }
 },
 "nbformat": 4,
 "nbformat_minor": 5
}
