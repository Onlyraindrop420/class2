{
 "cells": [
  {
   "cell_type": "code",
   "execution_count": 2,
   "id": "56c2ed06",
   "metadata": {},
   "outputs": [
    {
     "name": "stdout",
     "output_type": "stream",
     "text": [
      "Enter your age:15\n",
      "Not legal to vote!!!\n"
     ]
    }
   ],
   "source": [
    "age=int(input('Enter your age:'))\n",
    "if age>=18:\n",
    "    print(\"You are legal to vote!!!\")\n",
    "else:\n",
    "    print (\"Not legal to vote!!!\")"
   ]
  },
  {
   "cell_type": "code",
   "execution_count": 6,
   "id": "e5ff467a",
   "metadata": {
    "scrolled": true
   },
   "outputs": [
    {
     "name": "stdout",
     "output_type": "stream",
     "text": [
      "enter a number:12\n",
      "Bye!!!\n"
     ]
    }
   ],
   "source": [
    "jap=int(input(\"enter a number:\"))\n",
    "a= jap%5\n",
    "if a==0:\n",
    "    print(\"Hello!!!\")\n",
    "else:\n",
    "    print(\"Bye!!!\")"
   ]
  },
  {
   "cell_type": "code",
   "execution_count": 8,
   "id": "8305a761",
   "metadata": {},
   "outputs": [
    {
     "name": "stdout",
     "output_type": "stream",
     "text": [
      "enter a number:2557\n",
      "last number not divisible by 3\n"
     ]
    }
   ],
   "source": [
    "num=int(input(\"enter a number:\"))\n",
    "a=num % 10\n",
    "if a%3==0:\n",
    "    print(\"last number is divisible by 3\")\n",
    "else:\n",
    "    print(\"last number not divisible by 3\")"
   ]
  },
  {
   "cell_type": "code",
   "execution_count": null,
   "id": "50e8079c",
   "metadata": {},
   "outputs": [],
   "source": []
  },
  {
   "cell_type": "code",
   "execution_count": 26,
   "id": "b2d501ba",
   "metadata": {},
   "outputs": [
    {
     "name": "stdout",
     "output_type": "stream",
     "text": [
      "enter number of units:350\n",
      " Total bill is 2000.\n"
     ]
    }
   ],
   "source": [
    "unit=int(input(\"enter number of units:\"))\n",
    "if unit<=100:\n",
    "    print(\"No charge\")\n",
    "elif unit>100 and unit<=200:\n",
    "    a=unit-100\n",
    "    sum=a*5\n",
    "    print(\" Total bill is {}.\".format(sum))\n",
    "else:\n",
    "    a= unit-200\n",
    "    sum1=int(500 + a * 10)\n",
    "    print(' Total bill is {}.'.format(sum1))\n",
    "        \n",
    "        \n",
    "        "
   ]
  },
  {
   "cell_type": "code",
   "execution_count": 5,
   "id": "437510ef",
   "metadata": {},
   "outputs": [
    {
     "name": "stdout",
     "output_type": "stream",
     "text": [
      "enter number of units:210\n",
      " Total bill is 600.\n"
     ]
    }
   ],
   "source": [
    "unit=int(input(\"enter number of units:\"))\n",
    "if unit<=100:\n",
    "    print(\"No charge\")\n",
    "elif unit>100 :\n",
    "    if unit<200 :\n",
    "        a=unit-100\n",
    "        sum=a*5\n",
    "        print(\" Total bill is {}.\".format(sum)) #yeta else pachi ni if lekhna paincha ki nai?\n",
    "    else:\n",
    "        a= unit-200\n",
    "        sum1=int(500 + a * 10)\n",
    "        print(' Total bill is {}.'.format(sum1))\n",
    "        \n",
    "        "
   ]
  },
  {
   "cell_type": "code",
   "execution_count": null,
   "id": "3cfa08d1",
   "metadata": {},
   "outputs": [],
   "source": []
  }
 ],
 "metadata": {
  "kernelspec": {
   "display_name": "Python 3 (ipykernel)",
   "language": "python",
   "name": "python3"
  },
  "language_info": {
   "codemirror_mode": {
    "name": "ipython",
    "version": 3
   },
   "file_extension": ".py",
   "mimetype": "text/x-python",
   "name": "python",
   "nbconvert_exporter": "python",
   "pygments_lexer": "ipython3",
   "version": "3.8.10"
  }
 },
 "nbformat": 4,
 "nbformat_minor": 5
}
