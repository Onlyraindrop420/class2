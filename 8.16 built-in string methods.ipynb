{
 "cells": [
  {
   "cell_type": "code",
   "execution_count": 1,
   "id": "8a08a46e",
   "metadata": {},
   "outputs": [
    {
     "ename": "TypeError",
     "evalue": "'str' object does not support item assignment",
     "output_type": "error",
     "traceback": [
      "\u001b[1;31m---------------------------------------------------------------------------\u001b[0m",
      "\u001b[1;31mTypeError\u001b[0m                                 Traceback (most recent call last)",
      "Input \u001b[1;32mIn [1]\u001b[0m, in \u001b[0;36m<cell line: 3>\u001b[1;34m()\u001b[0m\n\u001b[0;32m      1\u001b[0m name\u001b[38;5;241m=\u001b[39m\u001b[38;5;124m\"\u001b[39m\u001b[38;5;124mnishan\u001b[39m\u001b[38;5;124m\"\u001b[39m\n\u001b[0;32m      2\u001b[0m name[\u001b[38;5;241m1\u001b[39m]\n\u001b[1;32m----> 3\u001b[0m \u001b[43mname\u001b[49m\u001b[43m[\u001b[49m\u001b[38;5;241;43m1\u001b[39;49m\u001b[43m]\u001b[49m\u001b[38;5;241m=\u001b[39m\u001b[38;5;124m\"\u001b[39m\u001b[38;5;124ms\u001b[39m\u001b[38;5;124m\"\u001b[39m\n",
      "\u001b[1;31mTypeError\u001b[0m: 'str' object does not support item assignment"
     ]
    }
   ],
   "source": [
    "name=\"nishan\"\n",
    "name[1]\n",
    "name[1]=\"s\"  # you cannot update python string using indexing and assignmnet operator"
   ]
  },
  {
   "cell_type": "code",
   "execution_count": null,
   "id": "aa22f481",
   "metadata": {},
   "outputs": [],
   "source": []
  },
  {
   "cell_type": "code",
   "execution_count": null,
   "id": "3b95c370",
   "metadata": {},
   "outputs": [],
   "source": []
  },
  {
   "cell_type": "code",
   "execution_count": null,
   "id": "09a07b4e",
   "metadata": {},
   "outputs": [],
   "source": []
  },
  {
   "cell_type": "markdown",
   "id": "9567d292",
   "metadata": {},
   "source": [
    "Replacing the above value by REPLACE method:"
   ]
  },
  {
   "cell_type": "code",
   "execution_count": 2,
   "id": "970badfa",
   "metadata": {},
   "outputs": [
    {
     "data": {
      "text/plain": [
       "'nashan'"
      ]
     },
     "execution_count": 2,
     "metadata": {},
     "output_type": "execute_result"
    }
   ],
   "source": [
    "name.replace(\"i\",\"a\")"
   ]
  },
  {
   "cell_type": "code",
   "execution_count": null,
   "id": "c720c62e",
   "metadata": {},
   "outputs": [],
   "source": []
  },
  {
   "cell_type": "code",
   "execution_count": 3,
   "id": "27ac46f3",
   "metadata": {},
   "outputs": [
    {
     "data": {
      "text/plain": [
       "'nishan'"
      ]
     },
     "execution_count": 3,
     "metadata": {},
     "output_type": "execute_result"
    }
   ],
   "source": [
    "name"
   ]
  },
  {
   "cell_type": "code",
   "execution_count": 4,
   "id": "59f4c959",
   "metadata": {},
   "outputs": [],
   "source": [
    "name=name.replace(\"i\",\"a\")"
   ]
  },
  {
   "cell_type": "code",
   "execution_count": 5,
   "id": "d47300dd",
   "metadata": {},
   "outputs": [
    {
     "data": {
      "text/plain": [
       "'nashan'"
      ]
     },
     "execution_count": 5,
     "metadata": {},
     "output_type": "execute_result"
    }
   ],
   "source": [
    "name"
   ]
  },
  {
   "cell_type": "code",
   "execution_count": null,
   "id": "f168a1cc",
   "metadata": {},
   "outputs": [],
   "source": []
  },
  {
   "cell_type": "code",
   "execution_count": null,
   "id": "67842846",
   "metadata": {},
   "outputs": [],
   "source": []
  },
  {
   "cell_type": "code",
   "execution_count": 7,
   "id": "02ebe9ce",
   "metadata": {},
   "outputs": [],
   "source": [
    "gender = \"Male\""
   ]
  },
  {
   "cell_type": "code",
   "execution_count": 8,
   "id": "0a9b802a",
   "metadata": {},
   "outputs": [
    {
     "data": {
      "text/plain": [
       "'Male'"
      ]
     },
     "execution_count": 8,
     "metadata": {},
     "output_type": "execute_result"
    }
   ],
   "source": [
    "gender"
   ]
  },
  {
   "cell_type": "code",
   "execution_count": 9,
   "id": "5a877618",
   "metadata": {},
   "outputs": [
    {
     "data": {
      "text/plain": [
       "'male'"
      ]
     },
     "execution_count": 9,
     "metadata": {},
     "output_type": "execute_result"
    }
   ],
   "source": [
    "gender.lower()"
   ]
  },
  {
   "cell_type": "code",
   "execution_count": 10,
   "id": "60b57398",
   "metadata": {},
   "outputs": [
    {
     "data": {
      "text/plain": [
       "'MALE'"
      ]
     },
     "execution_count": 10,
     "metadata": {},
     "output_type": "execute_result"
    }
   ],
   "source": [
    "gender.upper()"
   ]
  },
  {
   "cell_type": "code",
   "execution_count": null,
   "id": "afea4fea",
   "metadata": {},
   "outputs": [],
   "source": []
  },
  {
   "cell_type": "code",
   "execution_count": null,
   "id": "666f7f9e",
   "metadata": {},
   "outputs": [],
   "source": []
  },
  {
   "cell_type": "code",
   "execution_count": 12,
   "id": "9718ec82",
   "metadata": {},
   "outputs": [],
   "source": [
    "greet = \"Awesome day\""
   ]
  },
  {
   "cell_type": "code",
   "execution_count": 13,
   "id": "27ab54f2",
   "metadata": {},
   "outputs": [
    {
     "data": {
      "text/plain": [
       "'Wonderful day'"
      ]
     },
     "execution_count": 13,
     "metadata": {},
     "output_type": "execute_result"
    }
   ],
   "source": [
    "greet.replace(\"Awesome\", \"Wonderful\")"
   ]
  },
  {
   "cell_type": "code",
   "execution_count": null,
   "id": "af7ac43f",
   "metadata": {},
   "outputs": [],
   "source": []
  },
  {
   "cell_type": "markdown",
   "id": "3f142b07",
   "metadata": {},
   "source": [
    "Split method"
   ]
  },
  {
   "cell_type": "code",
   "execution_count": 19,
   "id": "0129d57c",
   "metadata": {},
   "outputs": [],
   "source": [
    "txt= \"Covid-19 is a pandemic. Please! wash your hands\""
   ]
  },
  {
   "cell_type": "code",
   "execution_count": 20,
   "id": "944c6857",
   "metadata": {},
   "outputs": [],
   "source": [
    "words= txt.split(\" \")"
   ]
  },
  {
   "cell_type": "code",
   "execution_count": 21,
   "id": "ea19f73e",
   "metadata": {},
   "outputs": [
    {
     "data": {
      "text/plain": [
       "['Covid-19', 'is', 'a', 'pandemic.', 'Please!', 'wash', 'your', 'hands']"
      ]
     },
     "execution_count": 21,
     "metadata": {},
     "output_type": "execute_result"
    }
   ],
   "source": [
    "words"
   ]
  },
  {
   "cell_type": "code",
   "execution_count": 22,
   "id": "2cb5efc1",
   "metadata": {},
   "outputs": [
    {
     "data": {
      "text/plain": [
       "list"
      ]
     },
     "execution_count": 22,
     "metadata": {},
     "output_type": "execute_result"
    }
   ],
   "source": [
    "type(words)"
   ]
  },
  {
   "cell_type": "code",
   "execution_count": null,
   "id": "f683f65c",
   "metadata": {},
   "outputs": [],
   "source": []
  },
  {
   "cell_type": "code",
   "execution_count": null,
   "id": "1228d051",
   "metadata": {},
   "outputs": [],
   "source": []
  },
  {
   "cell_type": "code",
   "execution_count": null,
   "id": "ae9980a8",
   "metadata": {},
   "outputs": [],
   "source": []
  },
  {
   "cell_type": "code",
   "execution_count": 31,
   "id": "0f0bfb2b",
   "metadata": {},
   "outputs": [
    {
     "name": "stdout",
     "output_type": "stream",
     "text": [
      "list 0 and its list value 9\n",
      "list 1 and its list value 2\n",
      "list 2 and its list value 45\n",
      "list 3 and its list value 0\n",
      "list 4 and its list value 11\n"
     ]
    }
   ],
   "source": [
    "nums=[9,2,45,0,11]\n",
    "start=0\n",
    "end=len(nums)\n",
    "step=1\n",
    "for index in range(start,end,step):\n",
    "    a=nums[index]\n",
    "    print(\"list {} and its list value {}\".format(index, a))"
   ]
  },
  {
   "cell_type": "code",
   "execution_count": null,
   "id": "3200ac08",
   "metadata": {},
   "outputs": [],
   "source": []
  },
  {
   "cell_type": "code",
   "execution_count": null,
   "id": "70903d08",
   "metadata": {},
   "outputs": [],
   "source": []
  },
  {
   "cell_type": "code",
   "execution_count": null,
   "id": "7d8c835a",
   "metadata": {},
   "outputs": [],
   "source": []
  },
  {
   "cell_type": "code",
   "execution_count": 32,
   "id": "0d7efacb",
   "metadata": {},
   "outputs": [
    {
     "name": "stdout",
     "output_type": "stream",
     "text": [
      "9\n",
      "2\n",
      "45\n",
      "0\n",
      "11\n"
     ]
    }
   ],
   "source": [
    "for item in nums:\n",
    "    print(item)"
   ]
  },
  {
   "cell_type": "code",
   "execution_count": 33,
   "id": "34a4c581",
   "metadata": {},
   "outputs": [
    {
     "name": "stdout",
     "output_type": "stream",
     "text": [
      "9\n",
      "2\n",
      "45\n",
      "0\n",
      "11\n"
     ]
    }
   ],
   "source": [
    "\n",
    "for index in range(len(nums)):\n",
    "    item= nums[index]\n",
    "    print(item)"
   ]
  },
  {
   "cell_type": "code",
   "execution_count": null,
   "id": "6fd17a1d",
   "metadata": {},
   "outputs": [],
   "source": []
  },
  {
   "cell_type": "code",
   "execution_count": 43,
   "id": "e8893a42",
   "metadata": {},
   "outputs": [
    {
     "name": "stdout",
     "output_type": "stream",
     "text": [
      "13.4\n"
     ]
    }
   ],
   "source": [
    "nums=[9,2,45,0,11]\n",
    "total=0\n",
    "start=0\n",
    "end= len(nums)\n",
    "step=1\n",
    "for index in range(start,end,step):\n",
    "    item = nums[index]\n",
    "    total = total + item\n",
    "mean = total/len(nums)\n",
    "print(mean)"
   ]
  },
  {
   "cell_type": "code",
   "execution_count": null,
   "id": "9db9b0d0",
   "metadata": {},
   "outputs": [],
   "source": []
  },
  {
   "cell_type": "code",
   "execution_count": null,
   "id": "4ad00fb1",
   "metadata": {},
   "outputs": [],
   "source": []
  },
  {
   "cell_type": "code",
   "execution_count": 46,
   "id": "f490f3f3",
   "metadata": {},
   "outputs": [
    {
     "name": "stdout",
     "output_type": "stream",
     "text": [
      "13.4\n"
     ]
    }
   ],
   "source": [
    "total=0\n",
    "for item in nums:\n",
    "    total=total+item\n",
    "mean=total/len(nums)\n",
    "print(mean)"
   ]
  },
  {
   "cell_type": "code",
   "execution_count": null,
   "id": "ef56ade0",
   "metadata": {},
   "outputs": [],
   "source": []
  },
  {
   "cell_type": "code",
   "execution_count": null,
   "id": "6549fc7d",
   "metadata": {},
   "outputs": [],
   "source": []
  },
  {
   "cell_type": "markdown",
   "id": "d341ad53",
   "metadata": {},
   "source": [
    "Negative indexing"
   ]
  },
  {
   "cell_type": "code",
   "execution_count": 47,
   "id": "3b4bd4b6",
   "metadata": {},
   "outputs": [
    {
     "data": {
      "text/plain": [
       "11"
      ]
     },
     "execution_count": 47,
     "metadata": {},
     "output_type": "execute_result"
    }
   ],
   "source": [
    "nums[-1]"
   ]
  },
  {
   "cell_type": "code",
   "execution_count": 48,
   "id": "8ccaee06",
   "metadata": {},
   "outputs": [
    {
     "data": {
      "text/plain": [
       "0"
      ]
     },
     "execution_count": 48,
     "metadata": {},
     "output_type": "execute_result"
    }
   ],
   "source": [
    "nums[-2]"
   ]
  },
  {
   "cell_type": "code",
   "execution_count": null,
   "id": "c03a2e69",
   "metadata": {},
   "outputs": [],
   "source": []
  }
 ],
 "metadata": {
  "kernelspec": {
   "display_name": "Python 3 (ipykernel)",
   "language": "python",
   "name": "python3"
  },
  "language_info": {
   "codemirror_mode": {
    "name": "ipython",
    "version": 3
   },
   "file_extension": ".py",
   "mimetype": "text/x-python",
   "name": "python",
   "nbconvert_exporter": "python",
   "pygments_lexer": "ipython3",
   "version": "3.8.10"
  }
 },
 "nbformat": 4,
 "nbformat_minor": 5
}
