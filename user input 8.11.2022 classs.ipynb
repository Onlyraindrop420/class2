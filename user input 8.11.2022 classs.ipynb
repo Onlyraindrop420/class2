{
 "cells": [
  {
   "cell_type": "code",
   "execution_count": 5,
   "id": "da80e284",
   "metadata": {},
   "outputs": [
    {
     "name": "stdout",
     "output_type": "stream",
     "text": [
      "enter anything:0.55\n"
     ]
    }
   ],
   "source": [
    "userinput = input('enter anything:')"
   ]
  },
  {
   "cell_type": "code",
   "execution_count": 6,
   "id": "acfa7f09",
   "metadata": {},
   "outputs": [
    {
     "data": {
      "text/plain": [
       "'0.55'"
      ]
     },
     "execution_count": 6,
     "metadata": {},
     "output_type": "execute_result"
    }
   ],
   "source": [
    "userinput"
   ]
  },
  {
   "cell_type": "code",
   "execution_count": 13,
   "id": "544b9abf",
   "metadata": {},
   "outputs": [
    {
     "name": "stdout",
     "output_type": "stream",
     "text": [
      "enter first number to add: 1\n",
      "enter second number to add: 99\n",
      "the sum of 1 and 99 is 100\n"
     ]
    }
   ],
   "source": [
    "num1 = int(input(\"enter first number to add: \" )) # typecasting\n",
    "num2 = int(input(\"enter second number to add: \" ))\n",
    "total= num1+num2\n",
    "print( \"the sum of {} and {} is {}\". format (num1,num2,total))"
   ]
  },
  {
   "cell_type": "code",
   "execution_count": 11,
   "id": "82238f64",
   "metadata": {},
   "outputs": [
    {
     "data": {
      "text/plain": [
       "str"
      ]
     },
     "execution_count": 11,
     "metadata": {},
     "output_type": "execute_result"
    }
   ],
   "source": [
    "type(num1)"
   ]
  },
  {
   "cell_type": "code",
   "execution_count": null,
   "id": "fe90a199",
   "metadata": {},
   "outputs": [],
   "source": []
  }
 ],
 "metadata": {
  "kernelspec": {
   "display_name": "Python 3 (ipykernel)",
   "language": "python",
   "name": "python3"
  },
  "language_info": {
   "codemirror_mode": {
    "name": "ipython",
    "version": 3
   },
   "file_extension": ".py",
   "mimetype": "text/x-python",
   "name": "python",
   "nbconvert_exporter": "python",
   "pygments_lexer": "ipython3",
   "version": "3.8.10"
  }
 },
 "nbformat": 4,
 "nbformat_minor": 5
}
