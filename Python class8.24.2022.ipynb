{
 "cells": [
  {
   "cell_type": "markdown",
   "id": "e4003f3d",
   "metadata": {},
   "source": [
    "# Class and object"
   ]
  },
  {
   "cell_type": "code",
   "execution_count": 1,
   "id": "0bc5ae61",
   "metadata": {},
   "outputs": [],
   "source": [
    "class alpha:\n",
    "    pass"
   ]
  },
  {
   "cell_type": "code",
   "execution_count": 2,
   "id": "b327bb96",
   "metadata": {},
   "outputs": [
    {
     "name": "stdout",
     "output_type": "stream",
     "text": [
      "<class '__main__.alpha'>\n"
     ]
    }
   ],
   "source": [
    "obj = alpha()\n",
    "print(type(obj))"
   ]
  },
  {
   "cell_type": "code",
   "execution_count": 4,
   "id": "25fdffd2",
   "metadata": {},
   "outputs": [
    {
     "name": "stdout",
     "output_type": "stream",
     "text": [
      "<class '__main__.alpha'>\n"
     ]
    }
   ],
   "source": [
    "if __name__ ==\"__main__\":  # entry point of python program\n",
    "    obj =alpha()\n",
    "    print(type(obj))"
   ]
  },
  {
   "cell_type": "code",
   "execution_count": null,
   "id": "cfd7b4ed",
   "metadata": {},
   "outputs": [],
   "source": []
  },
  {
   "cell_type": "code",
   "execution_count": 2,
   "id": "afc332c6",
   "metadata": {},
   "outputs": [
    {
     "name": "stdout",
     "output_type": "stream",
     "text": [
      "p1 is nishan luitel sex is Male age is 20\n"
     ]
    }
   ],
   "source": [
    "class person:\n",
    "    def __init__(self, name, age, sex):\n",
    "        self.myname=name\n",
    "        self.myage=age\n",
    "        self.mysex=sex\n",
    "p1=person(\"nishan luitel\",20,\"Male\")\n",
    "p2=person(\"govinda luitel\", 40,\"Male\")\n",
    "print (\"p1 is\",p1.myname,\"sex is\",p1.mysex,\"age is\",p1.myage)\n"
   ]
  },
  {
   "cell_type": "code",
   "execution_count": null,
   "id": "6b73c7d2",
   "metadata": {},
   "outputs": [],
   "source": []
  },
  {
   "cell_type": "code",
   "execution_count": null,
   "id": "c8093f81",
   "metadata": {},
   "outputs": [],
   "source": []
  },
  {
   "cell_type": "markdown",
   "id": "1d5b0cae",
   "metadata": {},
   "source": [
    "# class attribute and instance attribute"
   ]
  },
  {
   "cell_type": "code",
   "execution_count": 7,
   "id": "f673e914",
   "metadata": {},
   "outputs": [
    {
     "data": {
      "text/plain": [
       "4"
      ]
     },
     "execution_count": 7,
     "metadata": {},
     "output_type": "execute_result"
    }
   ],
   "source": [
    "class Vechicle:\n",
    "    wheeler = 4\n",
    "car = Vechicle()\n",
    "car.wheeler\n",
    "    "
   ]
  },
  {
   "cell_type": "code",
   "execution_count": 8,
   "id": "f4149a27",
   "metadata": {},
   "outputs": [
    {
     "data": {
      "text/plain": [
       "4"
      ]
     },
     "execution_count": 8,
     "metadata": {},
     "output_type": "execute_result"
    }
   ],
   "source": [
    "bus= Vechicle()\n",
    "bus.wheeler"
   ]
  },
  {
   "cell_type": "code",
   "execution_count": 3,
   "id": "8fbf64ce",
   "metadata": {},
   "outputs": [],
   "source": [
    "class Vechicle:\n",
    "    wheeler=4\n",
    "    \n",
    "    def __init__(self, no_of_seat):\n",
    "        type(self)\n",
    "        self. no_of_seat=no_of_seat"
   ]
  },
  {
   "cell_type": "code",
   "execution_count": 5,
   "id": "3328425c",
   "metadata": {},
   "outputs": [
    {
     "data": {
      "text/plain": [
       "4"
      ]
     },
     "execution_count": 5,
     "metadata": {},
     "output_type": "execute_result"
    }
   ],
   "source": [
    "car = Vechicle(6)\n",
    "car.wheeler"
   ]
  },
  {
   "cell_type": "code",
   "execution_count": 6,
   "id": "4030e508",
   "metadata": {},
   "outputs": [
    {
     "data": {
      "text/plain": [
       "6"
      ]
     },
     "execution_count": 6,
     "metadata": {},
     "output_type": "execute_result"
    }
   ],
   "source": [
    "car.no_of_seat"
   ]
  },
  {
   "cell_type": "code",
   "execution_count": 7,
   "id": "0cda4b90",
   "metadata": {},
   "outputs": [],
   "source": [
    "bus = Vechicle(50)\n"
   ]
  },
  {
   "cell_type": "code",
   "execution_count": 16,
   "id": "0ea48500",
   "metadata": {},
   "outputs": [
    {
     "data": {
      "text/plain": [
       "4"
      ]
     },
     "execution_count": 16,
     "metadata": {},
     "output_type": "execute_result"
    }
   ],
   "source": [
    "bus.wheeler"
   ]
  },
  {
   "cell_type": "code",
   "execution_count": 17,
   "id": "86295c52",
   "metadata": {},
   "outputs": [
    {
     "data": {
      "text/plain": [
       "50"
      ]
     },
     "execution_count": 17,
     "metadata": {},
     "output_type": "execute_result"
    }
   ],
   "source": [
    "bus.no_of_seat"
   ]
  },
  {
   "cell_type": "code",
   "execution_count": null,
   "id": "c70ecc69",
   "metadata": {},
   "outputs": [],
   "source": []
  },
  {
   "cell_type": "code",
   "execution_count": 21,
   "id": "23fd0b17",
   "metadata": {},
   "outputs": [],
   "source": [
    "class person:\n",
    "    def __init__(self, name, age):\n",
    "        self.name=name\n",
    "        self.age=age\n",
    "pl= person (\" nishan \", 27 )"
   ]
  },
  {
   "cell_type": "code",
   "execution_count": 22,
   "id": "553e0bc9",
   "metadata": {},
   "outputs": [
    {
     "data": {
      "text/plain": [
       "<__main__.person at 0x1dcb23e8c10>"
      ]
     },
     "execution_count": 22,
     "metadata": {},
     "output_type": "execute_result"
    }
   ],
   "source": [
    "pl"
   ]
  },
  {
   "cell_type": "code",
   "execution_count": 23,
   "id": "430d45c1",
   "metadata": {},
   "outputs": [
    {
     "data": {
      "text/plain": [
       "' nishan '"
      ]
     },
     "execution_count": 23,
     "metadata": {},
     "output_type": "execute_result"
    }
   ],
   "source": [
    "pl.name"
   ]
  },
  {
   "cell_type": "code",
   "execution_count": 24,
   "id": "b2ec6621",
   "metadata": {},
   "outputs": [
    {
     "data": {
      "text/plain": [
       "27"
      ]
     },
     "execution_count": 24,
     "metadata": {},
     "output_type": "execute_result"
    }
   ],
   "source": [
    "pl.age"
   ]
  },
  {
   "cell_type": "code",
   "execution_count": null,
   "id": "48f51586",
   "metadata": {},
   "outputs": [],
   "source": []
  },
  {
   "cell_type": "code",
   "execution_count": 8,
   "id": "aa292ce2",
   "metadata": {},
   "outputs": [],
   "source": [
    "def test(*args, **kwargs):\n",
    "    print(args)\n",
    "    print(kwargs)"
   ]
  },
  {
   "cell_type": "code",
   "execution_count": 9,
   "id": "8f3d8e10",
   "metadata": {},
   "outputs": [
    {
     "name": "stdout",
     "output_type": "stream",
     "text": [
      "(2, 3, 4)\n",
      "{'first_name': 'nishan', 'age': 24}\n"
     ]
    }
   ],
   "source": [
    "test(2,3,4, first_name =\"nishan\", age=24)"
   ]
  },
  {
   "cell_type": "code",
   "execution_count": null,
   "id": "6a5b0320",
   "metadata": {},
   "outputs": [],
   "source": []
  },
  {
   "cell_type": "code",
   "execution_count": null,
   "id": "d7877343",
   "metadata": {},
   "outputs": [],
   "source": []
  },
  {
   "cell_type": "code",
   "execution_count": 10,
   "id": "2a0917f5",
   "metadata": {},
   "outputs": [],
   "source": [
    "class person:\n",
    "    def __init__(self,name,age):\n",
    "        self.name= name\n",
    "        self.age=age\n",
    "    def display(self):\n",
    "        print(\"your name is {} and your age is {}\".format(self.name, self.age))"
   ]
  },
  {
   "cell_type": "code",
   "execution_count": 32,
   "id": "2e538bdd",
   "metadata": {},
   "outputs": [
    {
     "name": "stdout",
     "output_type": "stream",
     "text": [
      "your name is nishan and your age is 27\n"
     ]
    }
   ],
   "source": [
    "pl = person(\"nishan\",27)\n",
    "pl.display()"
   ]
  },
  {
   "cell_type": "code",
   "execution_count": 33,
   "id": "59c95bb3",
   "metadata": {},
   "outputs": [
    {
     "name": "stdout",
     "output_type": "stream",
     "text": [
      "your name is ram and your age is 30\n"
     ]
    }
   ],
   "source": [
    "pl2= person(\"ram\", 30)\n",
    "pl2.display()"
   ]
  },
  {
   "cell_type": "code",
   "execution_count": null,
   "id": "b6d4c1b2",
   "metadata": {},
   "outputs": [],
   "source": []
  },
  {
   "cell_type": "code",
   "execution_count": null,
   "id": "14a70085",
   "metadata": {},
   "outputs": [],
   "source": []
  },
  {
   "cell_type": "code",
   "execution_count": 11,
   "id": "a06d8f78",
   "metadata": {},
   "outputs": [],
   "source": [
    "class circle:\n",
    "    def __init__(self,radius):\n",
    "        self.radius = radius\n",
    "    def display(self):        \n",
    "        print(\" radius of circle is {}\".format(self.radius))\n",
    "    def area(self):\n",
    "        return 3.14*(self.r**2)\n"
   ]
  },
  {
   "cell_type": "code",
   "execution_count": 12,
   "id": "f2d56393",
   "metadata": {},
   "outputs": [
    {
     "name": "stdout",
     "output_type": "stream",
     "text": [
      " radius of circle is 12\n"
     ]
    }
   ],
   "source": [
    "rd = circle(12)\n",
    "rd.display()"
   ]
  },
  {
   "cell_type": "code",
   "execution_count": 13,
   "id": "15ae64ff",
   "metadata": {},
   "outputs": [
    {
     "ename": "NameError",
     "evalue": "name 'obj' is not defined",
     "output_type": "error",
     "traceback": [
      "\u001b[1;31m---------------------------------------------------------------------------\u001b[0m",
      "\u001b[1;31mNameError\u001b[0m                                 Traceback (most recent call last)",
      "Input \u001b[1;32mIn [13]\u001b[0m, in \u001b[0;36m<cell line: 1>\u001b[1;34m()\u001b[0m\n\u001b[1;32m----> 1\u001b[0m area \u001b[38;5;241m=\u001b[39m \u001b[43mobj\u001b[49m\u001b[38;5;241m.\u001b[39marea()\n",
      "\u001b[1;31mNameError\u001b[0m: name 'obj' is not defined"
     ]
    }
   ],
   "source": [
    "area = obj.area()"
   ]
  },
  {
   "cell_type": "code",
   "execution_count": null,
   "id": "81650839",
   "metadata": {},
   "outputs": [],
   "source": []
  },
  {
   "cell_type": "markdown",
   "id": "2ada1675",
   "metadata": {},
   "source": [
    "# Inheritance"
   ]
  },
  {
   "cell_type": "code",
   "execution_count": null,
   "id": "d23c6ddc",
   "metadata": {},
   "outputs": [],
   "source": []
  },
  {
   "cell_type": "code",
   "execution_count": null,
   "id": "130ae634",
   "metadata": {},
   "outputs": [],
   "source": []
  },
  {
   "cell_type": "code",
   "execution_count": null,
   "id": "a1a79b7b",
   "metadata": {},
   "outputs": [],
   "source": []
  },
  {
   "cell_type": "code",
   "execution_count": null,
   "id": "a60ea761",
   "metadata": {},
   "outputs": [],
   "source": []
  },
  {
   "cell_type": "code",
   "execution_count": null,
   "id": "070784ff",
   "metadata": {},
   "outputs": [],
   "source": []
  },
  {
   "cell_type": "code",
   "execution_count": null,
   "id": "ec187bc8",
   "metadata": {},
   "outputs": [],
   "source": []
  }
 ],
 "metadata": {
  "kernelspec": {
   "display_name": "Python 3 (ipykernel)",
   "language": "python",
   "name": "python3"
  },
  "language_info": {
   "codemirror_mode": {
    "name": "ipython",
    "version": 3
   },
   "file_extension": ".py",
   "mimetype": "text/x-python",
   "name": "python",
   "nbconvert_exporter": "python",
   "pygments_lexer": "ipython3",
   "version": "3.8.10"
  }
 },
 "nbformat": 4,
 "nbformat_minor": 5
}
