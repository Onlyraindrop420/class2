{
 "cells": [
  {
   "cell_type": "markdown",
   "id": "04b5ae8b",
   "metadata": {},
   "source": [
    "# Prime number\n",
    "\n",
    "    "
   ]
  },
  {
   "cell_type": "code",
   "execution_count": null,
   "id": "aa93fd98",
   "metadata": {},
   "outputs": [],
   "source": [
    "def fun(x):\n",
    "    if x==1:\n",
    "        return False\n",
    "    elif x==2:\n",
    "        return True\n",
    "    else:\n",
    "        for a in range(2,x):\n",
    "            if x % a==0:\n",
    "                return False\n",
    "        return True\n",
    "a=int(input(\"enter a number:\"))\n",
    "print(\"the given number is prime\",fun(a))"
   ]
  },
  {
   "cell_type": "code",
   "execution_count": null,
   "id": "51bf8c11",
   "metadata": {},
   "outputs": [],
   "source": []
  },
  {
   "cell_type": "code",
   "execution_count": null,
   "id": "4711f5ba",
   "metadata": {},
   "outputs": [],
   "source": []
  },
  {
   "cell_type": "code",
   "execution_count": null,
   "id": "dc451060",
   "metadata": {},
   "outputs": [],
   "source": []
  },
  {
   "cell_type": "markdown",
   "id": "f5ff7845",
   "metadata": {},
   "source": [
    "# list updated\n"
   ]
  },
  {
   "cell_type": "code",
   "execution_count": null,
   "id": "61450d72",
   "metadata": {},
   "outputs": [],
   "source": [
    "\n",
    "def list_mod(a):\n",
    "    x = set(a)\n",
    "    y = list(x)\n",
    "    return y\n",
    "a = [\"bed\",\"fan\",\"chair\",\"sofa\",\"table\",\"bed\",\"sofa\"]\n",
    "print(\"the unique list updated is \",list_mod(a))"
   ]
  },
  {
   "cell_type": "code",
   "execution_count": null,
   "id": "eb4a13ee",
   "metadata": {},
   "outputs": [],
   "source": []
  },
  {
   "cell_type": "code",
   "execution_count": null,
   "id": "a2bf1bbb",
   "metadata": {},
   "outputs": [],
   "source": []
  },
  {
   "cell_type": "markdown",
   "id": "d22e1f72",
   "metadata": {},
   "source": [
    "# number of uppercase and lowercase letter"
   ]
  },
  {
   "cell_type": "code",
   "execution_count": null,
   "id": "003ffd09",
   "metadata": {},
   "outputs": [],
   "source": [
    "\n",
    "def case(q):\n",
    "    \n",
    "    e = len(q) \n",
    "    f=0\n",
    "    g=0\n",
    "    for r in range(0,e,1):\n",
    "        \n",
    "        t=w[r]\n",
    "        if t == w[r].upper():\n",
    "            f = f + 1 \n",
    "                        \n",
    "        elif t != w[r].upper():\n",
    "            g = g + 1 \n",
    "            \n",
    "q = input(\"Enter a word with both uppercase and lowercase:\")\n",
    "print(\"number of Upper is {} and Lower is {}\".format(f,g))    \n",
    "# return kasari garne?????"
   ]
  },
  {
   "cell_type": "code",
   "execution_count": null,
   "id": "d3e53133",
   "metadata": {},
   "outputs": [],
   "source": []
  },
  {
   "cell_type": "code",
   "execution_count": null,
   "id": "cc3e5b98",
   "metadata": {},
   "outputs": [],
   "source": []
  },
  {
   "cell_type": "code",
   "execution_count": null,
   "id": "ae44176f",
   "metadata": {},
   "outputs": [],
   "source": []
  },
  {
   "cell_type": "markdown",
   "id": "772907cf",
   "metadata": {},
   "source": [
    "# Hyphen seperated input\n"
   ]
  },
  {
   "cell_type": "code",
   "execution_count": 58,
   "id": "9c441db2",
   "metadata": {},
   "outputs": [
    {
     "ename": "TypeError",
     "evalue": "list indices must be integers or slices, not str",
     "output_type": "error",
     "traceback": [
      "\u001b[1;31m---------------------------------------------------------------------------\u001b[0m",
      "\u001b[1;31mTypeError\u001b[0m                                 Traceback (most recent call last)",
      "Input \u001b[1;32mIn [58]\u001b[0m, in \u001b[0;36m<cell line: 15>\u001b[1;34m()\u001b[0m\n\u001b[0;32m     11\u001b[0m         y\u001b[38;5;241m=\u001b[39mz[l]\u001b[38;5;241m+\u001b[39my\n\u001b[0;32m     13\u001b[0m     \u001b[38;5;28;01mreturn\u001b[39;00m y\n\u001b[1;32m---> 15\u001b[0m \u001b[43mchange\u001b[49m\u001b[43m(\u001b[49m\u001b[38;5;124;43m\"\u001b[39;49m\u001b[38;5;124;43mann-obnn-blll\u001b[39;49m\u001b[38;5;124;43m\"\u001b[39;49m\u001b[43m)\u001b[49m\n",
      "Input \u001b[1;32mIn [58]\u001b[0m, in \u001b[0;36mchange\u001b[1;34m(a)\u001b[0m\n\u001b[0;32m      9\u001b[0m \u001b[38;5;28;01mfor\u001b[39;00m l \u001b[38;5;129;01min\u001b[39;00m z:\n\u001b[0;32m     10\u001b[0m     y\u001b[38;5;241m=\u001b[39m\u001b[38;5;241m0\u001b[39m\n\u001b[1;32m---> 11\u001b[0m     y\u001b[38;5;241m=\u001b[39m\u001b[43mz\u001b[49m\u001b[43m[\u001b[49m\u001b[43ml\u001b[49m\u001b[43m]\u001b[49m\u001b[38;5;241m+\u001b[39my\n\u001b[0;32m     13\u001b[0m \u001b[38;5;28;01mreturn\u001b[39;00m y\n",
      "\u001b[1;31mTypeError\u001b[0m: list indices must be integers or slices, not str"
     ]
    }
   ],
   "source": [
    "\n",
    "def change(a):\n",
    "    m=[]\n",
    "    b=a.split(\"-\")\n",
    "    for i in range(0,len(b),1):\n",
    "        x=b[i]\n",
    "        m.append(x)\n",
    "    m.sort()\n",
    "    z=m\n",
    "    for l in z:\n",
    "        y=z[l]+y\n",
    "    \n",
    "    return y\n",
    "\n",
    "change(\"ann-obnn-blll\")\n"
   ]
  },
  {
   "cell_type": "code",
   "execution_count": null,
   "id": "45783ef8",
   "metadata": {},
   "outputs": [],
   "source": []
  },
  {
   "cell_type": "code",
   "execution_count": null,
   "id": "12703fd9",
   "metadata": {},
   "outputs": [],
   "source": [
    "for c in b(0,len(b),1):\n",
    "        d=b[c]\n",
    "        print(d,\"-\")"
   ]
  },
  {
   "cell_type": "code",
   "execution_count": 49,
   "id": "a5dd3eb8",
   "metadata": {},
   "outputs": [
    {
     "data": {
      "text/plain": [
       "[1, 2, 3]"
      ]
     },
     "execution_count": 49,
     "metadata": {},
     "output_type": "execute_result"
    }
   ],
   "source": [
    "li=[3,2,1]\n",
    "li.sort()\n",
    "li"
   ]
  },
  {
   "cell_type": "code",
   "execution_count": 20,
   "id": "41089873",
   "metadata": {},
   "outputs": [],
   "source": []
  },
  {
   "cell_type": "markdown",
   "id": "1a1e97dd",
   "metadata": {},
   "source": [
    "# assignment calculator"
   ]
  },
  {
   "cell_type": "code",
   "execution_count": 23,
   "id": "edafce60",
   "metadata": {},
   "outputs": [
    {
     "name": "stdout",
     "output_type": "stream",
     "text": [
      "['odd', 'even', 'odd']\n",
      "total addition is:  6\n",
      "squares is: [1, 4, 9]\n",
      "mean is: 2.0\n",
      "3\n"
     ]
    }
   ],
   "source": [
    "def total(*args):\n",
    "    x=args\n",
    "    c=len(args)\n",
    "    sum=0\n",
    "    mean=0\n",
    "    square=0\n",
    "    squarelist=[]\n",
    "    oddevenlist=[]\n",
    "    for v in range(0,c,1):\n",
    "        b=x[v]\n",
    "        sum=sum+b\n",
    "        square=x[v]**2\n",
    "        squarelist.append(square)\n",
    "        mean=sum/c\n",
    "        if b%2==0:\n",
    "            printnum=\"even\"\n",
    "            oddevenlist.append(printnum)\n",
    "        else:\n",
    "            printnum=\"odd\"\n",
    "            oddevenlist.append(printnum)\n",
    "    \n",
    "    print(oddevenlist)\n",
    "    print(\"total addition is: \",sum)\n",
    "    print(\"squares is:\",squarelist)\n",
    "    print(\"mean is:\",mean)\n",
    "    \n",
    "    \n",
    "    print(c)\n",
    "total(1,2,3)\n"
   ]
  },
  {
   "cell_type": "code",
   "execution_count": null,
   "id": "82ac71c2",
   "metadata": {},
   "outputs": [],
   "source": []
  },
  {
   "cell_type": "markdown",
   "id": "fe411773",
   "metadata": {},
   "source": [
    "# fibonacci string"
   ]
  },
  {
   "cell_type": "code",
   "execution_count": null,
   "id": "b2d3e06d",
   "metadata": {},
   "outputs": [],
   "source": [
    "def Fibonacci(n):   \n",
    "    if n < 0:\n",
    "        print(\"Incorrect input\") \n",
    "    \n",
    "    elif n == 0:\n",
    "        return 0\n",
    " \n",
    "    \n",
    "    elif n == 1 or n == 2:\n",
    "        return 1\n",
    " \n",
    "    else:\n",
    "        return Fibonacci(n-1) + Fibonacci(n-2)\n",
    "Fibonacci(3)"
   ]
  },
  {
   "cell_type": "code",
   "execution_count": null,
   "id": "3055a821",
   "metadata": {},
   "outputs": [],
   "source": []
  },
  {
   "cell_type": "code",
   "execution_count": null,
   "id": "53b7d749",
   "metadata": {},
   "outputs": [],
   "source": []
  },
  {
   "cell_type": "code",
   "execution_count": null,
   "id": "514b5d42",
   "metadata": {},
   "outputs": [],
   "source": []
  },
  {
   "cell_type": "code",
   "execution_count": null,
   "id": "62b8c14a",
   "metadata": {},
   "outputs": [],
   "source": []
  }
 ],
 "metadata": {
  "kernelspec": {
   "display_name": "Python 3 (ipykernel)",
   "language": "python",
   "name": "python3"
  },
  "language_info": {
   "codemirror_mode": {
    "name": "ipython",
    "version": 3
   },
   "file_extension": ".py",
   "mimetype": "text/x-python",
   "name": "python",
   "nbconvert_exporter": "python",
   "pygments_lexer": "ipython3",
   "version": "3.8.10"
  }
 },
 "nbformat": 4,
 "nbformat_minor": 5
}
