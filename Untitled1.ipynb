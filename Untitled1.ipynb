{
 "cells": [
  {
   "cell_type": "code",
   "execution_count": null,
   "id": "90aaaf73",
   "metadata": {},
   "outputs": [],
   "source": [
    "20=a\n"
   ]
  },
  {
   "cell_type": "code",
   "execution_count": null,
   "id": "7cea3545",
   "metadata": {},
   "outputs": [],
   "source": [
    "a,b,c=2,3,4-4j\n",
    "print(a)\n",
    "print(b)\n",
    "print(c)"
   ]
  },
  {
   "cell_type": "code",
   "execution_count": null,
   "id": "ab34cdd7",
   "metadata": {},
   "outputs": [],
   "source": [
    "a=2\n",
    "b=3\n",
    "c=a*b\n",
    "b=c/b\n",
    "a=c/a\n",
    "print( \"a = {} b= {}\".format(a,b))"
   ]
  },
  {
   "cell_type": "code",
   "execution_count": null,
   "id": "5a2fd011",
   "metadata": {},
   "outputs": [],
   "source": []
  },
  {
   "cell_type": "code",
   "execution_count": null,
   "id": "d8950d01",
   "metadata": {},
   "outputs": [],
   "source": [
    "a=3\n",
    "type(a)"
   ]
  },
  {
   "cell_type": "code",
   "execution_count": null,
   "id": "c549e2c2",
   "metadata": {},
   "outputs": [],
   "source": [
    "b=\"nishan\"\n",
    "type(b)\n"
   ]
  },
  {
   "cell_type": "code",
   "execution_count": null,
   "id": "b04282f2",
   "metadata": {},
   "outputs": [],
   "source": [
    "a=input (\"enter a number:\")\n",
    "a=int(a)\n",
    "b=input(\"enter a second number:\")\n",
    "b=int(b)\n",
    "if a%2==0:\n",
    "    print(\"even\")\n",
    "else:\n",
    "    print(\"odd\")\n",
    "c=a+b\n",
    "print(\"the addition is {}\".format(c))"
   ]
  },
  {
   "cell_type": "code",
   "execution_count": null,
   "id": "a0e82a3e",
   "metadata": {},
   "outputs": [],
   "source": [
    "a=int(input (\"enter a number:\"))\n",
    "if a%5 == 0:\n",
    "    print(\"hello\")\n",
    "else:\n",
    "    print(\"not multiple of 5\")"
   ]
  },
  {
   "cell_type": "code",
   "execution_count": null,
   "id": "1139a7e3",
   "metadata": {},
   "outputs": [],
   "source": []
  },
  {
   "cell_type": "code",
   "execution_count": null,
   "id": "8c880e8b",
   "metadata": {},
   "outputs": [],
   "source": [
    "a=int(input (\"enter a number:\"))\n",
    "b=a%10\n",
    "if b%3==0:\n",
    "    print(\"divisible by 3 \")\n",
    "else:\n",
    "    print('not')"
   ]
  },
  {
   "cell_type": "code",
   "execution_count": null,
   "id": "e93e1c8a",
   "metadata": {},
   "outputs": [],
   "source": [
    "a=\"Papaya\"\n",
    "print(len(a))\n",
    "print(a[1])"
   ]
  },
  {
   "cell_type": "code",
   "execution_count": null,
   "id": "4b66cd77",
   "metadata": {},
   "outputs": [],
   "source": [
    "print(a[0:len(a)])"
   ]
  },
  {
   "cell_type": "code",
   "execution_count": 25,
   "id": "d5f828ac",
   "metadata": {},
   "outputs": [
    {
     "data": {
      "text/plain": [
       "11"
      ]
     },
     "execution_count": 25,
     "metadata": {},
     "output_type": "execute_result"
    }
   ],
   "source": [
    "a=\"egg egg egg\"\n",
    "len(a)\n"
   ]
  },
  {
   "cell_type": "code",
   "execution_count": null,
   "id": "c4c053e0",
   "metadata": {},
   "outputs": [],
   "source": []
  },
  {
   "cell_type": "code",
   "execution_count": 35,
   "id": "da331622",
   "metadata": {},
   "outputs": [
    {
     "name": "stdout",
     "output_type": "stream",
     "text": [
      "0\n",
      "1\n",
      "2\n",
      "3\n",
      "4\n"
     ]
    }
   ],
   "source": [
    "for a in range(0,5,1):\n",
    "    print (a)"
   ]
  },
  {
   "cell_type": "code",
   "execution_count": null,
   "id": "089dfbe2",
   "metadata": {},
   "outputs": [],
   "source": []
  },
  {
   "cell_type": "code",
   "execution_count": 27,
   "id": "f9087761",
   "metadata": {},
   "outputs": [
    {
     "name": "stdout",
     "output_type": "stream",
     "text": [
      "the index for 0 is H\n",
      "the index for 1 is e\n",
      "the index for 2 is l\n",
      "the index for 3 is l\n",
      "the index for 4 is o\n"
     ]
    }
   ],
   "source": [
    "a=\"Hello\"\n",
    "for index in range(0,len(a),1):\n",
    "    b=a[index]\n",
    "    print(\"the index for {} is {}\".format(index,b))"
   ]
  },
  {
   "cell_type": "code",
   "execution_count": 28,
   "id": "399eac25",
   "metadata": {},
   "outputs": [
    {
     "name": "stdout",
     "output_type": "stream",
     "text": [
      "input a string:hello\n",
      "5\n",
      "the index for 4 is o\n",
      "the index for 3 is l\n",
      "the index for 2 is l\n",
      "the index for 1 is e\n",
      "the index for 0 is h\n"
     ]
    }
   ],
   "source": [
    "a=input(\"input a string:\")\n",
    "print(len(a))\n",
    "b=len(a)-1\n",
    "for index in range(b,-1,-1):\n",
    "    b=a[index]\n",
    "    print(\"the index for {} is {}\".format(index,b))"
   ]
  },
  {
   "cell_type": "code",
   "execution_count": null,
   "id": "dbb33672",
   "metadata": {},
   "outputs": [],
   "source": []
  }
 ],
 "metadata": {
  "kernelspec": {
   "display_name": "Python 3 (ipykernel)",
   "language": "python",
   "name": "python3"
  },
  "language_info": {
   "codemirror_mode": {
    "name": "ipython",
    "version": 3
   },
   "file_extension": ".py",
   "mimetype": "text/x-python",
   "name": "python",
   "nbconvert_exporter": "python",
   "pygments_lexer": "ipython3",
   "version": "3.8.10"
  }
 },
 "nbformat": 4,
 "nbformat_minor": 5
}
