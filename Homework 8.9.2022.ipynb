{
 "cells": [
  {
   "cell_type": "markdown",
   "id": "07017c6a",
   "metadata": {},
   "source": [
    "# Calculator"
   ]
  },
  {
   "cell_type": "code",
   "execution_count": 3,
   "id": "9ec86d34",
   "metadata": {},
   "outputs": [
    {
     "name": "stdout",
     "output_type": "stream",
     "text": [
      "Arithmatic Calculator\n"
     ]
    }
   ],
   "source": [
    "print('Arithmatic Calculator')"
   ]
  },
  {
   "cell_type": "code",
   "execution_count": 5,
   "id": "81617b3f",
   "metadata": {},
   "outputs": [
    {
     "name": "stdout",
     "output_type": "stream",
     "text": [
      "65\n",
      "55\n",
      "12.0\n",
      "300\n",
      "32\n",
      "2\n",
      "0\n"
     ]
    }
   ],
   "source": [
    "a=60\n",
    "b=5\n",
    "c=2\n",
    "Addition=(a+b)\n",
    "print(Addition)\n",
    "Subtraction=(a-b)\n",
    "print(Subtraction)\n",
    "Division=(a/b)\n",
    "print(Division)\n",
    "Multiplication=(a*b)\n",
    "print(Multiplication)\n",
    "Exponential=(c**b)\n",
    "print(Exponential)\n",
    "Floordivision=(b // c)\n",
    "print(Floordivision)\n",
    "Modulus=(a % b)\n",
    "print(Modulus)"
   ]
  },
  {
   "cell_type": "code",
   "execution_count": null,
   "id": "a928f328",
   "metadata": {},
   "outputs": [],
   "source": []
  }
 ],
 "metadata": {
  "kernelspec": {
   "display_name": "Python 3 (ipykernel)",
   "language": "python",
   "name": "python3"
  },
  "language_info": {
   "codemirror_mode": {
    "name": "ipython",
    "version": 3
   },
   "file_extension": ".py",
   "mimetype": "text/x-python",
   "name": "python",
   "nbconvert_exporter": "python",
   "pygments_lexer": "ipython3",
   "version": "3.8.10"
  }
 },
 "nbformat": 4,
 "nbformat_minor": 5
}
